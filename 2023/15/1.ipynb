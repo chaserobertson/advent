{
 "cells": [
  {
   "cell_type": "markdown",
   "metadata": {},
   "source": [
    "Part 1"
   ]
  },
  {
   "cell_type": "code",
   "execution_count": 1,
   "metadata": {},
   "outputs": [
    {
     "data": {
      "text/plain": [
       "(1320, 522547)"
      ]
     },
     "execution_count": 1,
     "metadata": {},
     "output_type": "execute_result"
    }
   ],
   "source": [
    "def hash_it(string):\n",
    "    current = 0\n",
    "    for c in string:\n",
    "        current += ord(c)\n",
    "        current *= 17\n",
    "        current %= 256\n",
    "    return current\n",
    "\n",
    "def pt1(filename):\n",
    "    with open(filename, 'r') as f:\n",
    "        data = f.read().strip().split(',')\n",
    "\n",
    "    results = [hash_it(x) for x in data]\n",
    "    return sum(results)\n",
    "\n",
    "pt1('test.txt'), pt1('input.txt')"
   ]
  },
  {
   "cell_type": "markdown",
   "metadata": {},
   "source": [
    "Part 2"
   ]
  },
  {
   "cell_type": "code",
   "execution_count": 2,
   "metadata": {},
   "outputs": [
    {
     "data": {
      "text/plain": [
       "(145, 229271)"
      ]
     },
     "execution_count": 2,
     "metadata": {},
     "output_type": "execute_result"
    }
   ],
   "source": [
    "from collections import OrderedDict\n",
    "\n",
    "def pt2(filename):\n",
    "    with open(filename, 'r') as f:\n",
    "        data = f.read().strip().split(',')\n",
    "\n",
    "    boxes = [OrderedDict() for _ in range(256)]\n",
    "    for step in data:\n",
    "        if '-' in step:\n",
    "            label = step[:-1]\n",
    "            box = boxes[hash_it(label)]\n",
    "            box.pop(label) if label in box else _\n",
    "        elif '=' in step:\n",
    "            label, focalen = step.split('=')\n",
    "            boxes[hash_it(label)][label] = int(focalen)\n",
    "                \n",
    "    return sum(\n",
    "        sum(\n",
    "            (1 + i) * (j + 1) * focalen\n",
    "            for j, focalen in enumerate(box.values())\n",
    "        ) \n",
    "        for i, box in enumerate(boxes)\n",
    "    )\n",
    "\n",
    "pt2('test.txt'), pt2('input.txt')"
   ]
  }
 ],
 "metadata": {
  "kernelspec": {
   "display_name": "base",
   "language": "python",
   "name": "python3"
  },
  "language_info": {
   "codemirror_mode": {
    "name": "ipython",
    "version": 3
   },
   "file_extension": ".py",
   "mimetype": "text/x-python",
   "name": "python",
   "nbconvert_exporter": "python",
   "pygments_lexer": "ipython3",
   "version": "3.11.5"
  }
 },
 "nbformat": 4,
 "nbformat_minor": 2
}

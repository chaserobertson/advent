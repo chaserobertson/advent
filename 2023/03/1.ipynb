{
 "cells": [
  {
   "cell_type": "markdown",
   "metadata": {},
   "source": [
    "Part 1"
   ]
  },
  {
   "cell_type": "code",
   "execution_count": 1,
   "metadata": {},
   "outputs": [
    {
     "data": {
      "text/plain": [
       "(4361, 532331)"
      ]
     },
     "execution_count": 1,
     "metadata": {},
     "output_type": "execute_result"
    }
   ],
   "source": [
    "import re\n",
    "num_pattern = r'\\d+'\n",
    "symbol_pattern = r'[^\\d|\\.]{1}'\n",
    "\n",
    "def pt1(filename):\n",
    "    with open(filename, 'r') as f:\n",
    "        data = f.read().splitlines()\n",
    "\n",
    "    numlists = [re.finditer(num_pattern, line) for line in data]\n",
    "    symbolrngs = [set(\n",
    "            range((s := symbol.start()) - 1, s + 2)\n",
    "            for symbol in re.finditer(symbol_pattern, line)\n",
    "        )\n",
    "        for line in data\n",
    "    ]\n",
    "\n",
    "    sumnums = []\n",
    "    for i, (nums, rngs) in enumerate(zip(numlists, symbolrngs)):\n",
    "        allrngs = set.union(\n",
    "            rngs,\n",
    "            symbolrngs[i-1] if i - 1 >= 0 else set(),\n",
    "            symbolrngs[i+1] if i + 1 < len(data) else set()\n",
    "        )\n",
    "        for num in nums:\n",
    "            add = False\n",
    "            for rng in allrngs:\n",
    "                lower, upper = num.span()\n",
    "                add |= lower in rng\n",
    "                add |= upper - 1 in rng\n",
    "            if add:\n",
    "                sumnums.append(int(num.group()))\n",
    "        \n",
    "    return sum(sumnums)\n",
    "\n",
    "pt1('test.txt'), pt1('input.txt')"
   ]
  },
  {
   "cell_type": "markdown",
   "metadata": {},
   "source": [
    "Part 2"
   ]
  },
  {
   "cell_type": "code",
   "execution_count": 2,
   "metadata": {},
   "outputs": [
    {
     "data": {
      "text/plain": [
       "(467835, 82301120)"
      ]
     },
     "execution_count": 2,
     "metadata": {},
     "output_type": "execute_result"
    }
   ],
   "source": [
    "import re\n",
    "gear_pattern = r'\\*'\n",
    "\n",
    "\n",
    "def check_horizontal(data, i, j):\n",
    "    h = []\n",
    "    for direction in (-1, 1):\n",
    "        y = j + direction\n",
    "        while y in range(len(data[i])) and data[i][y].isdigit():\n",
    "            y += direction\n",
    "        if y != j + direction:\n",
    "            h.append(\n",
    "                int(data[i][y+1:j]) if direction < 0 else int(data[i][j+1:y])\n",
    "            )\n",
    "    return h\n",
    "\n",
    "\n",
    "def get_neighbors(data, i, j):\n",
    "    neighbors = check_horizontal(data, i, j)\n",
    "\n",
    "    # check above/below\n",
    "    for vert in (-1, 1):\n",
    "        x = i + vert\n",
    "        # check for one centered number\n",
    "        if x in range(len(data)) and data[x][j].isdigit():\n",
    "            y1 = j - 1\n",
    "            while data[x][y1].isdigit():\n",
    "                y1 -= 1\n",
    "            y1 += 1\n",
    "\n",
    "            y2 = j + 1\n",
    "            while data[x][y2].isdigit():\n",
    "                y2 += 1\n",
    "\n",
    "            neighbors.append(int(data[x][y1:y2]))\n",
    "            \n",
    "        #check for multiple off-center\n",
    "        elif x in range(len(data)):\n",
    "            neighbors += check_horizontal(data, i + vert, j)\n",
    "\n",
    "    return neighbors\n",
    "\n",
    "\n",
    "def pt2(filename):\n",
    "    with open(filename, 'r') as f:\n",
    "        data = f.read().splitlines()\n",
    "\n",
    "    gearlists = [\n",
    "        [gear.start() for gear in re.finditer(gear_pattern, line)]\n",
    "        for line in data\n",
    "    ]\n",
    "\n",
    "    sumnums = []\n",
    "    for i, gears in enumerate(gearlists):\n",
    "        for gear in gears:\n",
    "            neighbors = get_neighbors(data, i, gear)\n",
    "            if len(neighbors) == 2:\n",
    "                sumnums.append(neighbors[0] * neighbors[1])\n",
    "        \n",
    "    return sum(sumnums)\n",
    "\n",
    "pt2('test.txt'), pt2('input.txt')"
   ]
  }
 ],
 "metadata": {
  "kernelspec": {
   "display_name": "base",
   "language": "python",
   "name": "python3"
  },
  "language_info": {
   "codemirror_mode": {
    "name": "ipython",
    "version": 3
   },
   "file_extension": ".py",
   "mimetype": "text/x-python",
   "name": "python",
   "nbconvert_exporter": "python",
   "pygments_lexer": "ipython3",
   "version": "3.11.5"
  }
 },
 "nbformat": 4,
 "nbformat_minor": 2
}

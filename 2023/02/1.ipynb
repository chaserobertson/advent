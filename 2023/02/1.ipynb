{
 "cells": [
  {
   "cell_type": "markdown",
   "metadata": {},
   "source": [
    "Part 1"
   ]
  },
  {
   "cell_type": "code",
   "execution_count": 1,
   "metadata": {},
   "outputs": [
    {
     "data": {
      "text/plain": [
       "(8, 2720)"
      ]
     },
     "execution_count": 1,
     "metadata": {},
     "output_type": "execute_result"
    }
   ],
   "source": [
    "def get_games(filename):\n",
    "    with open(filename, 'r') as f:\n",
    "        data = f.read().splitlines()\n",
    "\n",
    "    games = {}\n",
    "    for line in data:\n",
    "        pre, post = line.split(':')\n",
    "        gamenum = int(pre.split()[-1])\n",
    "        games.setdefault(gamenum, {})\n",
    "\n",
    "        for st in post.split(';'):\n",
    "            for s in st.split(','):\n",
    "                count, color = s.strip().split()\n",
    "                games[gamenum].setdefault(color, []).append(int(count))\n",
    "    return games\n",
    "\n",
    "def pt1(filename):\n",
    "    bag = {'red': 12, 'green': 13, 'blue': 14}\n",
    "    return sum(\n",
    "        num for num, game in get_games(filename).items()\n",
    "        if all(\n",
    "            max(counts) <= bag[color] \n",
    "            for color, counts in game.items()\n",
    "        )\n",
    "    )\n",
    "\n",
    "pt1('test.txt'), pt1('input.txt')"
   ]
  },
  {
   "cell_type": "markdown",
   "metadata": {},
   "source": [
    "Part 2"
   ]
  },
  {
   "cell_type": "code",
   "execution_count": 2,
   "metadata": {},
   "outputs": [
    {
     "data": {
      "text/plain": [
       "(2286, 71535)"
      ]
     },
     "execution_count": 2,
     "metadata": {},
     "output_type": "execute_result"
    }
   ],
   "source": [
    "from math import prod\n",
    "\n",
    "def pt2(filename):\n",
    "    return sum(\n",
    "        prod(max(counts) for counts in game.values())\n",
    "        for game in get_games(filename).values()\n",
    "    )\n",
    "\n",
    "pt2('test.txt'), pt2('input.txt')"
   ]
  }
 ],
 "metadata": {
  "kernelspec": {
   "display_name": "base",
   "language": "python",
   "name": "python3"
  },
  "language_info": {
   "codemirror_mode": {
    "name": "ipython",
    "version": 3
   },
   "file_extension": ".py",
   "mimetype": "text/x-python",
   "name": "python",
   "nbconvert_exporter": "python",
   "pygments_lexer": "ipython3",
   "version": "3.11.5"
  }
 },
 "nbformat": 4,
 "nbformat_minor": 2
}

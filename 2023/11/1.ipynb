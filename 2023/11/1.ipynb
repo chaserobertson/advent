{
 "cells": [
  {
   "cell_type": "markdown",
   "metadata": {},
   "source": [
    "Part 1"
   ]
  },
  {
   "cell_type": "code",
   "execution_count": 1,
   "metadata": {},
   "outputs": [
    {
     "data": {
      "text/plain": [
       "(374, 9591768)"
      ]
     },
     "execution_count": 1,
     "metadata": {},
     "output_type": "execute_result"
    }
   ],
   "source": [
    "import numpy as np\n",
    "\n",
    "def distance(x, y, inds, expansion_factor):\n",
    "    dist = np.abs(x - y).sum()\n",
    "    for i in range(2):\n",
    "        endpoints = sorted((x[i], y[i]))\n",
    "        expansion = sum((endpoints[0] < inds[i]) & (inds[i] < endpoints[1]))\n",
    "        dist += expansion * int(expansion_factor - 1)\n",
    "    return dist\n",
    "    \n",
    "\n",
    "def pt1(filename, expansion_factor = 2):\n",
    "    with open(filename, 'r') as f:\n",
    "        universe = np.array([list(x) for x in f.read().splitlines()])\n",
    "\n",
    "    expand_inds = [\n",
    "        np.where(np.all(universe == '.', axis=i))[0]\n",
    "        for i in (1, 0)\n",
    "    ]\n",
    "\n",
    "    galaxies = np.transpose(np.where(universe == '#'))\n",
    "\n",
    "    dists = [\n",
    "        distance(galaxies[i], galaxies[j], expand_inds, expansion_factor)\n",
    "        for i in range(len(galaxies) - 1)\n",
    "        for j in range(i + 1, len(galaxies))\n",
    "    ]\n",
    "\n",
    "    return sum(dists)\n",
    "\n",
    "pt1('test.txt'), pt1('input.txt')"
   ]
  },
  {
   "cell_type": "markdown",
   "metadata": {},
   "source": [
    "Part 2"
   ]
  },
  {
   "cell_type": "code",
   "execution_count": 2,
   "metadata": {},
   "outputs": [
    {
     "data": {
      "text/plain": [
       "(1030, 8410, 746962097860)"
      ]
     },
     "execution_count": 2,
     "metadata": {},
     "output_type": "execute_result"
    }
   ],
   "source": [
    "pt1('test.txt', 10), pt1('test.txt', 100), pt1('input.txt', 1e6)"
   ]
  }
 ],
 "metadata": {
  "kernelspec": {
   "display_name": "base",
   "language": "python",
   "name": "python3"
  },
  "language_info": {
   "codemirror_mode": {
    "name": "ipython",
    "version": 3
   },
   "file_extension": ".py",
   "mimetype": "text/x-python",
   "name": "python",
   "nbconvert_exporter": "python",
   "pygments_lexer": "ipython3",
   "version": "3.11.5"
  }
 },
 "nbformat": 4,
 "nbformat_minor": 2
}

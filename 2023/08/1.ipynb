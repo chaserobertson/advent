{
 "cells": [
  {
   "cell_type": "markdown",
   "metadata": {},
   "source": [
    "Part 1"
   ]
  },
  {
   "cell_type": "code",
   "execution_count": 1,
   "metadata": {},
   "outputs": [
    {
     "data": {
      "text/plain": [
       "(2, 6, 16697)"
      ]
     },
     "execution_count": 1,
     "metadata": {},
     "output_type": "execute_result"
    }
   ],
   "source": [
    "def pt1(filename):\n",
    "    with open(filename, 'r') as f:\n",
    "        data = f.read().splitlines()\n",
    "\n",
    "    instructions = [int(x == 'R') for x in data[0]]\n",
    "\n",
    "    nodes = {}\n",
    "    for line in data[2:]:\n",
    "        key, val = line.split(' = ')\n",
    "        nodes[key] = val[1:-1].split(', ')\n",
    "\n",
    "    node, i, steps = 'AAA', 0, 0\n",
    "    while node != 'ZZZ':\n",
    "        node = nodes[node][instructions[i]]\n",
    "        i = (i + 1) % len(instructions)\n",
    "        steps += 1\n",
    "\n",
    "    return steps\n",
    "\n",
    "pt1('test.txt'), pt1('test2.txt'), pt1('input.txt')"
   ]
  },
  {
   "cell_type": "markdown",
   "metadata": {},
   "source": [
    "Part 2"
   ]
  },
  {
   "cell_type": "code",
   "execution_count": 2,
   "metadata": {},
   "outputs": [
    {
     "data": {
      "text/plain": [
       "(6, 10668805667831)"
      ]
     },
     "execution_count": 2,
     "metadata": {},
     "output_type": "execute_result"
    }
   ],
   "source": [
    "from math import lcm\n",
    "\n",
    "def pt2(filename):\n",
    "    with open(filename, 'r') as f:\n",
    "        data = f.read().splitlines()\n",
    "\n",
    "    instructions = [int(x == 'R') for x in data[0]]\n",
    "\n",
    "    node_dict = {}\n",
    "    for line in data[2:]:\n",
    "        key, val = line.split(' = ')\n",
    "        node_dict[key] = val[1:-1].split(', ')\n",
    "\n",
    "    nodes = [node for node in node_dict if node[-1] == 'A']\n",
    "    steps_to_z = [0 for _ in nodes]\n",
    "    for j, node in enumerate(nodes):\n",
    "        i = 0\n",
    "        while not node[-1] == 'Z':\n",
    "            node = node_dict[node][instructions[i]]\n",
    "            i = (i + 1) % len(instructions)\n",
    "            steps_to_z[j] += 1\n",
    "\n",
    "    return lcm(*steps_to_z)\n",
    "\n",
    "pt2('test_pt2.txt'), pt2('input.txt')"
   ]
  }
 ],
 "metadata": {
  "kernelspec": {
   "display_name": "base",
   "language": "python",
   "name": "python3"
  },
  "language_info": {
   "codemirror_mode": {
    "name": "ipython",
    "version": 3
   },
   "file_extension": ".py",
   "mimetype": "text/x-python",
   "name": "python",
   "nbconvert_exporter": "python",
   "pygments_lexer": "ipython3",
   "version": "3.11.5"
  }
 },
 "nbformat": 4,
 "nbformat_minor": 2
}

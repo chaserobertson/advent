{
 "cells": [
  {
   "cell_type": "markdown",
   "metadata": {},
   "source": [
    "Part 1"
   ]
  },
  {
   "cell_type": "code",
   "execution_count": 1,
   "metadata": {},
   "outputs": [],
   "source": [
    "import bisect   # binary search library\n",
    "\n",
    "# define mapping class\n",
    "class Map:\n",
    "    def __init__(self, data):\n",
    "        self.src, _, self.dest = data[0].split()[0].split('-')\n",
    "        self.lines = [[int(x) for x in line.split()] for line in data[1:]]\n",
    "        self.lines.sort(key = lambda x: x[1])\n",
    "        self.dests, self.srcs, self.ns = zip(*self.lines)\n",
    "        self.ranges = len(self.ns)\n",
    "\n",
    "    def __str__(self):\n",
    "        return f'''{self.src} -> {self.dest}\n",
    "srcs  = {self.srcs}\n",
    "dests = {self.dests}\n",
    "ns    = {self.ns}\n",
    "ranges= {self.ranges}'''\n",
    "    \n",
    "    def search(self, key, reverse=False):\n",
    "        if reverse:\n",
    "            self.lines.sort(key = lambda x: x[0])\n",
    "            srcs, dests, ns = zip(*self.lines)\n",
    "        else:\n",
    "            srcs, dests, ns = self.srcs, self.dests, self.ns\n",
    "        return self.bisect(key, srcs, dests, ns)\n",
    "        \n",
    "    def bisect(self, key, srcs, dests, ns):\n",
    "        i = bisect.bisect(srcs, key) - 1\n",
    "        if srcs[i] <= key < (srcs[i] + ns[i]):\n",
    "            return dests[i] + (key - srcs[i])\n",
    "        else:\n",
    "            return key"
   ]
  },
  {
   "cell_type": "code",
   "execution_count": 2,
   "metadata": {},
   "outputs": [
    {
     "data": {
      "text/plain": [
       "(35, 3374647)"
      ]
     },
     "execution_count": 2,
     "metadata": {},
     "output_type": "execute_result"
    }
   ],
   "source": [
    "def pt1(filename):\n",
    "    with open(filename, 'r') as f:\n",
    "        data = f.read().splitlines()\n",
    "\n",
    "    seeds = [int(x) for x in data[0].split(':')[1].strip().split()]\n",
    "\n",
    "    # build maps from input data, assumed to be sequential\n",
    "    maps = []\n",
    "    while data := data[data.index('') + 1:]:\n",
    "        if '' in data:\n",
    "            maps.append(Map(data[:data.index('')]))\n",
    "        else:\n",
    "            maps.append(Map(data))\n",
    "            break\n",
    "\n",
    "    # # map search tests\n",
    "    # for x in [0, 1, 10, 48, 49, 50, 51, 53, 96, 97, 98, 99, 100]:\n",
    "    #     print(x, maps[0].search(x))\n",
    "    # for x in [79, 14, 55, 13]:\n",
    "    #     print(x, maps[0].search(x))\n",
    "\n",
    "    locations = []\n",
    "    for seed in seeds:\n",
    "        x = seed\n",
    "        for map in maps:\n",
    "            x = map.search(x)\n",
    "        locations.append(x)\n",
    "    return min(locations)\n",
    "\n",
    "pt1('test.txt'), pt1('input.txt')"
   ]
  },
  {
   "cell_type": "markdown",
   "metadata": {},
   "source": [
    "Part 2"
   ]
  },
  {
   "cell_type": "code",
   "execution_count": 3,
   "metadata": {},
   "outputs": [
    {
     "data": {
      "text/plain": [
       "(56, 6082852)"
      ]
     },
     "execution_count": 3,
     "metadata": {},
     "output_type": "execute_result"
    }
   ],
   "source": [
    "def pt2(filename):\n",
    "    with open(filename, 'r') as f:\n",
    "        data = f.read().splitlines()\n",
    "\n",
    "    seednums = [int(x) for x in data[0].split(':')[1].strip().split()]\n",
    "    seedrngs = [\n",
    "        range(seednums[i], seednums[i] + seednums[i+1])\n",
    "        for i in range(0, len(seednums), 2)\n",
    "    ]\n",
    "\n",
    "    maps = []\n",
    "    while data := data[data.index('') + 1:]:\n",
    "        if '' in data:\n",
    "            maps.append(Map(data[:data.index('')]))\n",
    "        else:\n",
    "            maps.append(Map(data))\n",
    "            break\n",
    "    maps = maps[::-1]\n",
    "\n",
    "    for start in sorted(maps[0].dests):\n",
    "        i = maps[0].dests.index(start)\n",
    "        for loc in range(start, start + maps[0].ns[i]):\n",
    "            x = loc\n",
    "            for map in maps:\n",
    "                x = map.search(x, reverse=True)\n",
    "                \n",
    "            if any(x in rng for rng in seedrngs):\n",
    "                return loc\n",
    "\n",
    "pt2('test.txt'), pt2('input.txt')"
   ]
  }
 ],
 "metadata": {
  "kernelspec": {
   "display_name": "base",
   "language": "python",
   "name": "python3"
  },
  "language_info": {
   "codemirror_mode": {
    "name": "ipython",
    "version": 3
   },
   "file_extension": ".py",
   "mimetype": "text/x-python",
   "name": "python",
   "nbconvert_exporter": "python",
   "pygments_lexer": "ipython3",
   "version": "3.11.5"
  }
 },
 "nbformat": 4,
 "nbformat_minor": 2
}

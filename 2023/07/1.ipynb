{
 "cells": [
  {
   "cell_type": "markdown",
   "metadata": {},
   "source": [
    "Part 1"
   ]
  },
  {
   "cell_type": "code",
   "execution_count": 1,
   "metadata": {},
   "outputs": [
    {
     "data": {
      "text/plain": [
       "(6440, 249638405)"
      ]
     },
     "execution_count": 1,
     "metadata": {},
     "output_type": "execute_result"
    }
   ],
   "source": [
    "from collections import Counter\n",
    "\n",
    "cards = ['A', 'K', 'Q', 'J', 'T', '9', '8', \n",
    "         '7', '6', '5', '4', '3', '2']\n",
    "card_weights = dict(zip(cards, reversed(range(len(cards)))))\n",
    "\n",
    "def hand_weight(hand):\n",
    "    return [card_weights[card] for card in hand]\n",
    "\n",
    "def hand_score(hand, mod_func = lambda x: x):\n",
    "    cards = mod_func(Counter(hand))\n",
    "    summary = sorted(cards.items(), key=lambda x: -x[1])\n",
    "    match summary:\n",
    "        case [(x, 5)]:                 # Five of a kind\n",
    "            score = 50\n",
    "        case [(x, 4), (y, 1)]:         # Four of a kind\n",
    "            score = 40\n",
    "        case [(x, 3), (y, 2)]:         # Full house\n",
    "            score = 35\n",
    "        case [(x, 3), (y, 1), (z, 1)]: # Three of a kind\n",
    "            score = 30\n",
    "        case [(x, 2), (y, 2), (z, 1)]: # Two pair\n",
    "            score = 20\n",
    "        case [(x, 2), (y, 1), (z, 1), (w, 1)]: # One pair\n",
    "            score = 10\n",
    "        case _:                        # High card\n",
    "            score = 0\n",
    "    return [score] + hand_weight(hand)\n",
    "\n",
    "def pt1(filename):\n",
    "    with open(filename, 'r') as f:\n",
    "        data = f.read().splitlines()\n",
    "\n",
    "    hands = [((x := line.split())[0], int(x[1])) for line in data]\n",
    "    scores = [hand_score(hand) for hand, _ in hands]\n",
    "    results = sorted(zip(hands, scores), key=lambda x: x[1])\n",
    "    winnings = [bid * (i+1) for i, ((_, bid), _) in enumerate(results)]\n",
    "\n",
    "    return sum(winnings)\n",
    "\n",
    "pt1('test.txt'), pt1('input.txt')"
   ]
  },
  {
   "cell_type": "code",
   "execution_count": 2,
   "metadata": {},
   "outputs": [
    {
     "data": {
      "text/plain": [
       "(5905, 249776650)"
      ]
     },
     "execution_count": 2,
     "metadata": {},
     "output_type": "execute_result"
    }
   ],
   "source": [
    "cards = ['A', 'K', 'Q', 'T', '9', '8', \n",
    "         '7', '6', '5', '4', '3', '2', 'J']\n",
    "card_weights = dict(zip(cards, reversed(range(len(cards)))))\n",
    "\n",
    "def replace_wildcards(cards):\n",
    "    if 'J' in cards and cards['J'] < 5:\n",
    "        wilds = cards['J']\n",
    "        del cards['J']\n",
    "        principal = max(cards.items(), key=lambda x: (x[1], x[0]))\n",
    "        cards[principal[0]] += wilds\n",
    "    return cards\n",
    "\n",
    "def pt2(filename):\n",
    "    with open(filename, 'r') as f:\n",
    "        data = f.read().splitlines()\n",
    "\n",
    "    hands = [((x := line.split())[0], int(x[1])) for line in data]\n",
    "    scores = [hand_score(hand, replace_wildcards) for hand, _ in hands]\n",
    "    results = sorted(zip(hands, scores), key=lambda x: x[1])\n",
    "    winnings = [bid * (i+1) for i, ((_, bid), _) in enumerate(results)]\n",
    "\n",
    "    return sum(winnings)\n",
    "\n",
    "pt2('test.txt'), pt2('input.txt')"
   ]
  }
 ],
 "metadata": {
  "kernelspec": {
   "display_name": "base",
   "language": "python",
   "name": "python3"
  },
  "language_info": {
   "codemirror_mode": {
    "name": "ipython",
    "version": 3
   },
   "file_extension": ".py",
   "mimetype": "text/x-python",
   "name": "python",
   "nbconvert_exporter": "python",
   "pygments_lexer": "ipython3",
   "version": "3.11.5"
  }
 },
 "nbformat": 4,
 "nbformat_minor": 2
}

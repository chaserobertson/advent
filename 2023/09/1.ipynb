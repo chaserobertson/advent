{
 "cells": [
  {
   "cell_type": "markdown",
   "metadata": {},
   "source": [
    "Part 1"
   ]
  },
  {
   "cell_type": "code",
   "execution_count": 1,
   "metadata": {},
   "outputs": [
    {
     "data": {
      "text/plain": [
       "(114, 1581679977)"
      ]
     },
     "execution_count": 1,
     "metadata": {},
     "output_type": "execute_result"
    }
   ],
   "source": [
    "import numpy as np\n",
    "\n",
    "def pt1(filename):\n",
    "    with open(filename, 'r') as f:\n",
    "        data = f.read().splitlines()\n",
    "\n",
    "    predictions = []\n",
    "    for line in data:\n",
    "        histories = [[int(x) for x in line.split()]]\n",
    "        \n",
    "        n = 1\n",
    "        while not all((d := np.diff(histories[-1])) == 0):\n",
    "            histories.append(d)\n",
    "            n += 1\n",
    "\n",
    "        predictions.append(sum(h[-1] for h in histories))\n",
    "\n",
    "    return sum(predictions)\n",
    "\n",
    "pt1('test.txt'), pt1('input.txt')"
   ]
  },
  {
   "cell_type": "markdown",
   "metadata": {},
   "source": [
    "Part 2"
   ]
  },
  {
   "cell_type": "code",
   "execution_count": 2,
   "metadata": {},
   "outputs": [
    {
     "data": {
      "text/plain": [
       "(2, 889)"
      ]
     },
     "execution_count": 2,
     "metadata": {},
     "output_type": "execute_result"
    }
   ],
   "source": [
    "def pt2(filename):\n",
    "    with open(filename, 'r') as f:\n",
    "        data = f.read().splitlines()\n",
    "\n",
    "    predictions = []\n",
    "    for line in data:\n",
    "        histories = [[int(x) for x in line.split()]]\n",
    "\n",
    "        n = 1\n",
    "        while not all((d := np.diff(histories[-1])) == 0):\n",
    "            histories.append(d)\n",
    "            n += 1\n",
    "\n",
    "        left_vals = [h[0] for h in histories]\n",
    "        val = 0\n",
    "        for v in reversed(left_vals):\n",
    "            val = v - val\n",
    "        predictions.append(val)\n",
    "\n",
    "    return sum(predictions)\n",
    "\n",
    "pt2('test.txt'), pt2('input.txt')"
   ]
  }
 ],
 "metadata": {
  "kernelspec": {
   "display_name": "base",
   "language": "python",
   "name": "python3"
  },
  "language_info": {
   "codemirror_mode": {
    "name": "ipython",
    "version": 3
   },
   "file_extension": ".py",
   "mimetype": "text/x-python",
   "name": "python",
   "nbconvert_exporter": "python",
   "pygments_lexer": "ipython3",
   "version": "3.11.5"
  }
 },
 "nbformat": 4,
 "nbformat_minor": 2
}

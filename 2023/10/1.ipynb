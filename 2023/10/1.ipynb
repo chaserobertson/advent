{
 "cells": [
  {
   "cell_type": "markdown",
   "metadata": {},
   "source": [
    "Part 1"
   ]
  },
  {
   "cell_type": "code",
   "execution_count": 1,
   "metadata": {},
   "outputs": [
    {
     "data": {
      "text/plain": [
       "(8, 6725)"
      ]
     },
     "execution_count": 1,
     "metadata": {},
     "output_type": "execute_result"
    }
   ],
   "source": [
    "import numpy as np\n",
    "from queue import PriorityQueue\n",
    "\n",
    "moves = [(-1, 0), (1, 0), (0, -1), (0, 1)]\n",
    "\n",
    "def valid_index(arr_shape, index):\n",
    "    valid = min(index) >= 0\n",
    "    for s, i in zip(arr_shape, index):\n",
    "        valid &= i < s\n",
    "    return valid\n",
    "\n",
    "def get_distances(filename):\n",
    "    with open(filename, 'r') as f:\n",
    "        data = f.read()\n",
    "\n",
    "    tiles = np.array([list(x) for x in data.splitlines()])\n",
    "    distances = np.ones_like(tiles, dtype='int') * np.inf\n",
    "\n",
    "    start = tuple(x[0] for x in np.where(tiles == 'S'))\n",
    "    distances[start] = 0\n",
    "    \n",
    "    todo = PriorityQueue()\n",
    "    todo.put((0, start))\n",
    "\n",
    "    while todo.queue:\n",
    "        dist, current = todo.get()\n",
    "        distances[current] = dist\n",
    "        dist += 1\n",
    "\n",
    "        for i, move in enumerate(moves):\n",
    "            next = tuple(c + m for c, m in zip(current, move))\n",
    "            if valid_index(tiles.shape, next) and any([\n",
    "                i == 0 and tiles[current] in 'S|LJ' and tiles[next] in '|7F',\n",
    "                i == 1 and tiles[current] in 'S|7F' and tiles[next] in '|LJ',\n",
    "                i == 2 and tiles[current] in 'S-J7' and tiles[next] in '-LF',\n",
    "                i == 3 and tiles[current] in 'S-LF' and tiles[next] in '-J7'\n",
    "            ]) and distances[next] == np.inf:\n",
    "                todo.put((dist, next))\n",
    "\n",
    "    return distances\n",
    "\n",
    "def pt1(filename):\n",
    "    distances = get_distances(filename)\n",
    "    return int(distances.max(initial = 1, where = distances != np.inf))\n",
    "\n",
    "pt1('test.txt'), pt1('input.txt')"
   ]
  },
  {
   "cell_type": "markdown",
   "metadata": {},
   "source": [
    "Part 2"
   ]
  },
  {
   "cell_type": "code",
   "execution_count": 2,
   "metadata": {},
   "outputs": [
    {
     "data": {
      "text/plain": [
       "(1, 0, 10, 383)"
      ]
     },
     "execution_count": 2,
     "metadata": {},
     "output_type": "execute_result"
    }
   ],
   "source": [
    "from matplotlib.path import Path\n",
    "\n",
    "def get_neighbours(d, index, dist=1):\n",
    "    return set([\n",
    "        next for move in moves \n",
    "        if valid_index(d.shape, \n",
    "            (next := tuple(c + m for c, m in zip(index, move)))\n",
    "        ) and abs(d[next] - d[index]) == dist\n",
    "    ])\n",
    "\n",
    "def pt2(filename):\n",
    "    d = get_distances(filename)\n",
    "    start = tuple([x[0] for x in np.where(d == 0)])\n",
    "\n",
    "    poly, next = [start], True\n",
    "    while start not in poly[1:]:\n",
    "        next = get_neighbours(d, poly[-1]).difference(poly[1:])\n",
    "        if next:\n",
    "            poly.append(next.pop())\n",
    "        \n",
    "    path = Path(poly)\n",
    "    non_path = list(zip(*np.where(d >= np.inf)))\n",
    "    return sum(path.contains_points(non_path))\n",
    "\n",
    "pt2('test.txt'), pt2('test2.txt'), pt2('test3.txt'), pt2('input.txt')"
   ]
  }
 ],
 "metadata": {
  "kernelspec": {
   "display_name": "base",
   "language": "python",
   "name": "python3"
  },
  "language_info": {
   "codemirror_mode": {
    "name": "ipython",
    "version": 3
   },
   "file_extension": ".py",
   "mimetype": "text/x-python",
   "name": "python",
   "nbconvert_exporter": "python",
   "pygments_lexer": "ipython3",
   "version": "3.11.5"
  }
 },
 "nbformat": 4,
 "nbformat_minor": 2
}

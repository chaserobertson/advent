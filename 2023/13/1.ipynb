{
 "cells": [
  {
   "cell_type": "markdown",
   "metadata": {},
   "source": [
    "Part 1"
   ]
  },
  {
   "cell_type": "code",
   "execution_count": 1,
   "metadata": {},
   "outputs": [
    {
     "data": {
      "text/plain": [
       "(405, 27742)"
      ]
     },
     "execution_count": 1,
     "metadata": {},
     "output_type": "execute_result"
    }
   ],
   "source": [
    "import numpy as np\n",
    "\n",
    "def summarise(filename, weights=(100, 1), smudges=0):\n",
    "    with open(filename, 'r') as f:\n",
    "        data = f.read().split('\\n\\n')\n",
    "\n",
    "    patterns = [np.array([list(x) for x in s.split()]) for s in data]\n",
    "\n",
    "    summary = 0\n",
    "    for p in patterns:\n",
    "        for axis, size in enumerate(p.shape):\n",
    "            for i in range(1, size):\n",
    "                span = min(i, size - i)\n",
    "                side1 = range(i - span, i)\n",
    "                side2 = range(i + span - 1, i - 1, -1)\n",
    "                mask = np.array([\n",
    "                    axis == 0 and smudges == np.sum(p[side1] != p[side2]),\n",
    "                    axis == 1 and smudges == np.sum(p[:,side1] != p[:,side2])\n",
    "                ])\n",
    "                summary += np.sum(mask * weights * i)\n",
    "    return summary\n",
    "\n",
    "def pt1(filename):\n",
    "    return summarise(filename)\n",
    "\n",
    "pt1('test.txt'), pt1('input.txt')"
   ]
  },
  {
   "cell_type": "markdown",
   "metadata": {},
   "source": [
    "Part 2"
   ]
  },
  {
   "cell_type": "code",
   "execution_count": 2,
   "metadata": {},
   "outputs": [
    {
     "data": {
      "text/plain": [
       "(400, 32728)"
      ]
     },
     "execution_count": 2,
     "metadata": {},
     "output_type": "execute_result"
    }
   ],
   "source": [
    "def pt2(filename):\n",
    "    return summarise(filename, smudges=1)\n",
    "\n",
    "pt2('test.txt'), pt2('input.txt')"
   ]
  }
 ],
 "metadata": {
  "kernelspec": {
   "display_name": "base",
   "language": "python",
   "name": "python3"
  },
  "language_info": {
   "codemirror_mode": {
    "name": "ipython",
    "version": 3
   },
   "file_extension": ".py",
   "mimetype": "text/x-python",
   "name": "python",
   "nbconvert_exporter": "python",
   "pygments_lexer": "ipython3",
   "version": "3.11.5"
  }
 },
 "nbformat": 4,
 "nbformat_minor": 2
}

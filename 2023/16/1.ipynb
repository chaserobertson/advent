{
 "cells": [
  {
   "cell_type": "markdown",
   "metadata": {},
   "source": [
    "Part 1"
   ]
  },
  {
   "cell_type": "code",
   "execution_count": 17,
   "metadata": {},
   "outputs": [
    {
     "data": {
      "text/plain": [
       "(46, 7392)"
      ]
     },
     "execution_count": 17,
     "metadata": {},
     "output_type": "execute_result"
    }
   ],
   "source": [
    "# todo: (location, direction)\n",
    "# location: [row, col]\n",
    "# direction: [vert, horiz]\n",
    "\n",
    "def traverse(data, start):\n",
    "    energized = set()\n",
    "    todo = set([start])\n",
    "\n",
    "    while todo:\n",
    "        current = todo.pop()\n",
    "        (r, c), (dr, dc) = current\n",
    "        if current in energized or r not in range(len(data)) or c not in range(len(data[0])):\n",
    "            continue\n",
    "\n",
    "        energized.add(current)\n",
    "        match data[r][c]:\n",
    "            case '.':\n",
    "                label = \"empty space\"\n",
    "                todo.add(((r+dr, c+dc), (dr, dc)))\n",
    "            case '/':\n",
    "                label = \"reflect 90 /\"\n",
    "                todo.add(((r-dc, c-dr), (-dc, -dr)))\n",
    "            case '\\\\':\n",
    "                label = \"reflect 90 \\\\\"\n",
    "                todo.add(((r+dc, c+dr), (dc, dr)))\n",
    "            case '-':\n",
    "                if dr:\n",
    "                    label = \"horizontal split\"\n",
    "                    todo.update([((r+dc, c+dr), (dc, dr)), ((r-dc, c-dr), (-dc, -dr))])\n",
    "                else:\n",
    "                    label = \"bypass horizontal split\"\n",
    "                    todo.add(((r+dr, c+dc), (dr, dc)))\n",
    "            case '|':\n",
    "                if dc:\n",
    "                    label = \"vertical split\"\n",
    "                    todo.update([((r+dc, c+dr), (dc, dr)), ((r-dc, c-dr), (-dc, -dr))])\n",
    "                else:\n",
    "                    label = \"bypass vertical split\"\n",
    "                    todo.add(((r+dr, c+dc), (dr, dc)))\n",
    "        #print(r, c, dr, dc, label)\n",
    "\n",
    "    return len(set(e[0] for e in energized))\n",
    "\n",
    "def pt1(filename):\n",
    "    with open(filename, 'r') as f:\n",
    "        data = f.read().splitlines()\n",
    "    return traverse(data, ((0, 0), (0, 1))) # start top left heading right\n",
    "\n",
    "pt1('test.txt'), pt1('input.txt')"
   ]
  },
  {
   "cell_type": "code",
   "execution_count": 25,
   "metadata": {},
   "outputs": [
    {
     "data": {
      "text/plain": [
       "(51, 7665)"
      ]
     },
     "execution_count": 25,
     "metadata": {},
     "output_type": "execute_result"
    }
   ],
   "source": [
    "def pt2(filename):\n",
    "    with open(filename, 'r') as f:\n",
    "        data = f.read().splitlines()\n",
    "    nr, nc = len(data), len(data[0])\n",
    "\n",
    "    n_energized = set(traverse(data, ((r, c), (0, dc))) for r in range(nr) for c, dc in ((0, 1), (nc-1, -1)))\n",
    "    n_energized.update(traverse(data, ((r, c), (dr, 0))) for c in range(nc) for r, dr in ((0, 1), (nr-1, -1)))\n",
    "\n",
    "    return max(n_energized)\n",
    "\n",
    "pt2('test.txt'), pt2('input.txt')"
   ]
  }
 ],
 "metadata": {
  "kernelspec": {
   "display_name": "base",
   "language": "python",
   "name": "python3"
  },
  "language_info": {
   "codemirror_mode": {
    "name": "ipython",
    "version": 3
   },
   "file_extension": ".py",
   "mimetype": "text/x-python",
   "name": "python",
   "nbconvert_exporter": "python",
   "pygments_lexer": "ipython3",
   "version": "3.11.6"
  }
 },
 "nbformat": 4,
 "nbformat_minor": 2
}

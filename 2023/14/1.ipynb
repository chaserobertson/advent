{
 "cells": [
  {
   "cell_type": "markdown",
   "metadata": {},
   "source": [
    "Part 1"
   ]
  },
  {
   "cell_type": "code",
   "execution_count": 1,
   "metadata": {},
   "outputs": [
    {
     "data": {
      "text/plain": [
       "(136, 106990)"
      ]
     },
     "execution_count": 1,
     "metadata": {},
     "output_type": "execute_result"
    }
   ],
   "source": [
    "import numpy as np\n",
    "\n",
    "priority = {'#': -1, 'O': 0, '.': 1}\n",
    "def key(x): return priority[x]\n",
    "\n",
    "def load(matrix):\n",
    "    return sum(matrix.shape[0] - np.where(matrix == 'O')[0])\n",
    "\n",
    "def tilt(matrix, direction):\n",
    "    matrix = np.rot90(matrix, direction)\n",
    "    new_matrix = np.empty_like(matrix)\n",
    "\n",
    "    for i in range(matrix.shape[1]):\n",
    "        block_inds = np.where(matrix[:, i] == '#')[0]\n",
    "        sections = np.vsplit(matrix, block_inds)\n",
    "        rolled_sections = [sorted(x[:, i], key = key) for x in sections]\n",
    "        new_matrix[:,i] = np.concatenate(rolled_sections)\n",
    "\n",
    "    return np.rot90(new_matrix, -direction)\n",
    "\n",
    "def pt1(filename):\n",
    "    with open(filename, 'r') as f:\n",
    "        grid = np.array([\n",
    "            [x for x in line] \n",
    "            for line in f.read().splitlines()\n",
    "        ])\n",
    "\n",
    "    return load(tilt(grid, 0))\n",
    "\n",
    "pt1('test.txt'), pt1('input.txt')"
   ]
  },
  {
   "cell_type": "markdown",
   "metadata": {},
   "source": [
    "Part 2"
   ]
  },
  {
   "cell_type": "code",
   "execution_count": 2,
   "metadata": {},
   "outputs": [
    {
     "data": {
      "text/plain": [
       "(64, 100531)"
      ]
     },
     "execution_count": 2,
     "metadata": {},
     "output_type": "execute_result"
    }
   ],
   "source": [
    "def spin_cycle(matrix):\n",
    "    cycle, known = 0, [matrix.tobytes()]\n",
    "    \n",
    "    while known[-1] not in known[:-1]:\n",
    "        for direction in [0, 3, 2, 1]:\n",
    "            matrix = tilt(matrix, direction)\n",
    "        known.append(matrix.tobytes())\n",
    "        cycle += 1\n",
    "\n",
    "    repeat_begin = known.index(known[-1])\n",
    "    cycle_len = cycle - repeat_begin\n",
    "    target_ind = repeat_begin + ((1000000000 - repeat_begin) % cycle_len)\n",
    "    \n",
    "    target = np.frombuffer(known[target_ind], dtype=matrix.dtype)\n",
    "    return target.reshape(matrix.shape)\n",
    "\n",
    "def pt2(filename):\n",
    "    with open(filename, 'r') as f:\n",
    "        grid = np.array([\n",
    "            [x for x in line] \n",
    "            for line in f.read().splitlines()\n",
    "        ])\n",
    "\n",
    "    return load(spin_cycle(grid))\n",
    "\n",
    "pt2('test.txt'), pt2('input.txt')"
   ]
  }
 ],
 "metadata": {
  "kernelspec": {
   "display_name": "base",
   "language": "python",
   "name": "python3"
  },
  "language_info": {
   "codemirror_mode": {
    "name": "ipython",
    "version": 3
   },
   "file_extension": ".py",
   "mimetype": "text/x-python",
   "name": "python",
   "nbconvert_exporter": "python",
   "pygments_lexer": "ipython3",
   "version": "3.11.5"
  }
 },
 "nbformat": 4,
 "nbformat_minor": 2
}

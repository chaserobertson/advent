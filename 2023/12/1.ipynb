{
 "cells": [
  {
   "cell_type": "markdown",
   "metadata": {},
   "source": [
    "Part 1"
   ]
  },
  {
   "cell_type": "code",
   "execution_count": 1,
   "metadata": {},
   "outputs": [
    {
     "data": {
      "text/plain": [
       "(21, 7260)"
      ]
     },
     "execution_count": 1,
     "metadata": {},
     "output_type": "execute_result"
    }
   ],
   "source": [
    "from re import finditer\n",
    "from itertools import combinations\n",
    "\n",
    "def is_valid(text):\n",
    "    groups = [len(x.group()) for x in finditer(r'#+', text)]\n",
    "    counts = [int(x.group()) for x in finditer(r'\\d+', text)]\n",
    "    return all(g == c for g, c in zip(groups, counts))\n",
    "\n",
    "def permutate(line, combs):\n",
    "    for comb in combs:\n",
    "        test_line = line\n",
    "        for i in comb:\n",
    "            test_line = test_line[:i] + '#' + test_line[i+1:]\n",
    "        if is_valid(test_line):\n",
    "            yield test_line\n",
    "\n",
    "def pt1(filename):\n",
    "    with open(filename, 'r') as f:\n",
    "        data = f.read().splitlines()\n",
    "\n",
    "    perm_counts = 0\n",
    "    for line in data:\n",
    "        unknown_inds = [x.start() for x in finditer(r'\\?', line)]\n",
    "        counts = [int(x.group()) for x in finditer(r'\\d+', line)]\n",
    "        n_todo = sum(counts) - line.count('#')\n",
    "\n",
    "        unknown_inds = [x.start() for x in finditer(r'\\?', line)]\n",
    "        combs = combinations(unknown_inds, n_todo)\n",
    "        \n",
    "        perms = permutate(line, combs)\n",
    "        perm_counts += len([x for x in perms])\n",
    "\n",
    "    return perm_counts\n",
    "\n",
    "pt1('test.txt'), pt1('input.txt')"
   ]
  },
  {
   "cell_type": "markdown",
   "metadata": {},
   "source": [
    "Part 2"
   ]
  },
  {
   "cell_type": "code",
   "execution_count": 2,
   "metadata": {},
   "outputs": [
    {
     "data": {
      "text/plain": [
       "(21, 7260, 525152, 1909291258644)"
      ]
     },
     "execution_count": 2,
     "metadata": {},
     "output_type": "execute_result"
    }
   ],
   "source": [
    "def get_combos(springstr, groups, key, cache):\n",
    "    if key in cache:\n",
    "        return cache[key]\n",
    "    \n",
    "    i, grp_i, grp_len = key\n",
    "    if i == len(springstr):\n",
    "        return any((\n",
    "            grp_i == len(groups)     and grp_len == 0,\n",
    "            grp_i == len(groups) - 1 and grp_len == groups[grp_i]\n",
    "        ))\n",
    "    \n",
    "    next_keys = [\n",
    "        (i + 1, grp_i, 0),\n",
    "        (i + 1, grp_i + 1, 0),\n",
    "        (i + 1, grp_i, grp_len + 1)\n",
    "    ]\n",
    "    inclusion = [\n",
    "        springstr[i] in '.?' and grp_len == 0,\n",
    "        springstr[i] in '.?' and grp_i < len(groups) and groups[grp_i] == grp_len,\n",
    "        springstr[i] in '#?'\n",
    "    ]\n",
    "    cache[key] = sum(\n",
    "        get_combos(springstr, groups, k, cache)\n",
    "        for include, k in zip(inclusion, next_keys) if include\n",
    "    )\n",
    "    return cache[key]\n",
    "\n",
    "\n",
    "def pt2(filename, reps=1):\n",
    "    with open(filename, 'r') as f:\n",
    "        data = f.read().splitlines()\n",
    "\n",
    "    combos = 0\n",
    "    for line in data:\n",
    "        springstr, groups = line.split()\n",
    "        springstr = '?'.join([springstr] * reps)\n",
    "        groups = [int(x) for x in (groups.split(',') * reps)]\n",
    "        combos += get_combos(springstr, groups, (0, 0, 0), dict())\n",
    "        \n",
    "    return combos\n",
    "\n",
    "pt2('test.txt'), pt2('input.txt'), pt2('test.txt', 5), pt2('input.txt', 5)"
   ]
  }
 ],
 "metadata": {
  "kernelspec": {
   "display_name": "base",
   "language": "python",
   "name": "python3"
  },
  "language_info": {
   "codemirror_mode": {
    "name": "ipython",
    "version": 3
   },
   "file_extension": ".py",
   "mimetype": "text/x-python",
   "name": "python",
   "nbconvert_exporter": "python",
   "pygments_lexer": "ipython3",
   "version": "3.11.5"
  }
 },
 "nbformat": 4,
 "nbformat_minor": 2
}

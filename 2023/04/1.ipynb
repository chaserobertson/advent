{
 "cells": [
  {
   "cell_type": "markdown",
   "metadata": {},
   "source": [
    "Part 1"
   ]
  },
  {
   "cell_type": "code",
   "execution_count": 8,
   "metadata": {},
   "outputs": [
    {
     "data": {
      "text/plain": [
       "(13, 23847)"
      ]
     },
     "execution_count": 8,
     "metadata": {},
     "output_type": "execute_result"
    }
   ],
   "source": [
    "def pt1(filename):\n",
    "    with open(filename, 'r') as f:\n",
    "        data = f.read().splitlines()\n",
    "\n",
    "    points = []\n",
    "    for line in data:\n",
    "        left, right = line.split('|')\n",
    "        my_nums = set(int(x) for x in left.split(':')[1].strip().split())\n",
    "        win_nums = set(int(x) for x in right.strip().split())\n",
    "        matches = len(my_nums.intersection(win_nums))\n",
    "        if matches:\n",
    "            points.append(1 if matches == 1 else 2 ** (matches - 1))\n",
    "    return sum(points)\n",
    "\n",
    "pt1('test.txt'), pt1('input.txt')"
   ]
  },
  {
   "cell_type": "markdown",
   "metadata": {},
   "source": [
    "Part 2"
   ]
  },
  {
   "cell_type": "code",
   "execution_count": 18,
   "metadata": {},
   "outputs": [
    {
     "data": {
      "text/plain": [
       "(30, 8570000)"
      ]
     },
     "execution_count": 18,
     "metadata": {},
     "output_type": "execute_result"
    }
   ],
   "source": [
    "def pt2(filename):\n",
    "    with open(filename, 'r') as f:\n",
    "        data = f.read().splitlines()\n",
    "\n",
    "    multipliers = [1 for _ in data]\n",
    "    for i, line in enumerate(data):\n",
    "        left, right = line.split('|')\n",
    "        my_nums = set(int(x) for x in left.split(':')[1].strip().split())\n",
    "        win_nums = set(int(x) for x in right.strip().split())\n",
    "        matches = len(my_nums.intersection(win_nums))\n",
    "        for j in range(matches):\n",
    "            multipliers[i + j + 1] += multipliers[i]\n",
    "    return sum(multipliers)\n",
    "\n",
    "pt2('test.txt'), pt2('input.txt')"
   ]
  }
 ],
 "metadata": {
  "kernelspec": {
   "display_name": "base",
   "language": "python",
   "name": "python3"
  },
  "language_info": {
   "codemirror_mode": {
    "name": "ipython",
    "version": 3
   },
   "file_extension": ".py",
   "mimetype": "text/x-python",
   "name": "python",
   "nbconvert_exporter": "python",
   "pygments_lexer": "ipython3",
   "version": "3.11.5"
  }
 },
 "nbformat": 4,
 "nbformat_minor": 2
}

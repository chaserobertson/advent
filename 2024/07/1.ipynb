{
 "cells": [
  {
   "cell_type": "markdown",
   "metadata": {},
   "source": [
    "Part 1"
   ]
  },
  {
   "cell_type": "code",
   "execution_count": 1,
   "metadata": {},
   "outputs": [
    {
     "data": {
      "text/plain": [
       "(3749, 1298300076754)"
      ]
     },
     "execution_count": 1,
     "metadata": {},
     "output_type": "execute_result"
    }
   ],
   "source": [
    "from math import prod\n",
    "from itertools import product\n",
    "\n",
    "class Equation:\n",
    "    def __init__(self, total, args):\n",
    "        self.total = int(total)\n",
    "        self.args = [int(x) for x in args.strip().split()]\n",
    "\n",
    "    def __str__(self):\n",
    "        return f\"{self.total}: {self.args}\"\n",
    "    \n",
    "    def solve(self, available_ops=[sum, prod]):     \n",
    "        for ops in product(available_ops, repeat=len(self.args)-1):\n",
    "            accum = self.args[0]\n",
    "            for i in range(len(ops)):\n",
    "                accum = ops[i]([accum, self.args[i + 1]])\n",
    "            if accum == self.total:\n",
    "                return self.total\n",
    "        return 0\n",
    "\n",
    "def pt1(filename):\n",
    "    with open(filename, 'r') as f:\n",
    "        data = [line.split(': ') for line in f.read().splitlines()]\n",
    "    \n",
    "    equations = [Equation(total, args) for total, args in data]\n",
    "\n",
    "    return sum(e.solve() for e in equations)\n",
    "\n",
    "pt1('test.txt'), pt1('input.txt')"
   ]
  },
  {
   "cell_type": "markdown",
   "metadata": {},
   "source": [
    "Part 2"
   ]
  },
  {
   "cell_type": "code",
   "execution_count": 2,
   "metadata": {},
   "outputs": [
    {
     "data": {
      "text/plain": [
       "(11387, 248427118972289)"
      ]
     },
     "execution_count": 2,
     "metadata": {},
     "output_type": "execute_result"
    }
   ],
   "source": [
    "def concat(x):\n",
    "    return int(\"\".join(str(y) for y in x))\n",
    "\n",
    "def pt2(filename):\n",
    "    with open(filename, 'r') as f:\n",
    "        data = [line.split(': ') for line in f.read().splitlines()]\n",
    "    \n",
    "    equations = [Equation(total, args) for total, args in data]\n",
    "\n",
    "    return sum(e.solve([sum, prod, concat]) for e in equations)\n",
    "\n",
    "pt2('test.txt'), pt2('input.txt')"
   ]
  }
 ],
 "metadata": {
  "kernelspec": {
   "display_name": "3.11.9",
   "language": "python",
   "name": "python3"
  },
  "language_info": {
   "codemirror_mode": {
    "name": "ipython",
    "version": 3
   },
   "file_extension": ".py",
   "mimetype": "text/x-python",
   "name": "python",
   "nbconvert_exporter": "python",
   "pygments_lexer": "ipython3",
   "version": "3.11.9"
  }
 },
 "nbformat": 4,
 "nbformat_minor": 2
}

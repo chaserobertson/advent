{
 "cells": [
  {
   "cell_type": "markdown",
   "metadata": {},
   "source": [
    "Part 1"
   ]
  },
  {
   "cell_type": "code",
   "execution_count": 1,
   "metadata": {},
   "outputs": [
    {
     "data": {
      "text/plain": [
       "(41, 4789)"
      ]
     },
     "execution_count": 1,
     "metadata": {},
     "output_type": "execute_result"
    }
   ],
   "source": [
    "import numpy as np\n",
    "\n",
    "MOVES = {'^': (-1, 0), '>': (0, 1), 'v': (1, 0), '<': (0, -1)}\n",
    "TURNS = {'^': '>', '>': 'v', 'v': '<', '<': '^'}\n",
    "\n",
    "def get_next_step(mat, current):\n",
    "    n, m = mat.shape\n",
    "    cur_ind, direction = current\n",
    "\n",
    "    next_ind = tuple(x + y for x, y in zip(cur_ind, MOVES[direction]))\n",
    "\n",
    "    if next_ind[0] in range(n) and next_ind[1] in range(m):\n",
    "        if mat[next_ind] == '#':\n",
    "            return get_next_step(mat, (cur_ind, TURNS[direction]))\n",
    "        else:\n",
    "            return (next_ind, direction)\n",
    "    else:\n",
    "        return current\n",
    "    \n",
    "def get_path(mat):\n",
    "    guard = (list(zip(*np.where(mat == '^')))[0], '^')\n",
    "\n",
    "    visited = set()\n",
    "    while guard not in visited:\n",
    "        visited.add(guard)\n",
    "        guard = get_next_step(mat, guard)\n",
    "    \n",
    "    return visited\n",
    "\n",
    "def make_mat(filename):\n",
    "    with open(filename, 'r') as f:\n",
    "        mat = np.array([[x for x in line] for line in f.read().splitlines()])\n",
    "    return mat\n",
    "\n",
    "def pt1(filename):\n",
    "    mat = make_mat(filename)\n",
    "\n",
    "    return len(set(v[0] for v in get_path(mat)))\n",
    "\n",
    "pt1('test.txt'), pt1('input.txt')"
   ]
  },
  {
   "cell_type": "markdown",
   "metadata": {},
   "source": [
    "Part 2"
   ]
  },
  {
   "cell_type": "code",
   "execution_count": 2,
   "metadata": {},
   "outputs": [
    {
     "data": {
      "text/plain": [
       "(6, 1304)"
      ]
     },
     "execution_count": 2,
     "metadata": {},
     "output_type": "execute_result"
    }
   ],
   "source": [
    "def has_loop(mat):\n",
    "    prev = guard = (list(zip(*np.where(mat == '^')))[0], '^')\n",
    "\n",
    "    visited = set()\n",
    "    while guard not in visited:\n",
    "        visited.add(guard)\n",
    "        prev = guard\n",
    "        guard = get_next_step(mat, guard)\n",
    "    \n",
    "    return guard != prev\n",
    "\n",
    "def pt2(filename):\n",
    "    mat = make_mat(filename)\n",
    "    path = get_path(mat)\n",
    "\n",
    "    guard_loc = list(zip(*np.where(mat == '^')))[0]\n",
    "    for direction in TURNS:\n",
    "        if (guard_loc, direction) in path:\n",
    "            path.remove((guard_loc, direction))\n",
    "    \n",
    "    obstructions = set()\n",
    "    for ind, dir in path:\n",
    "        temp = mat[ind]\n",
    "        mat[ind] = '#'\n",
    "        if has_loop(mat):\n",
    "            obstructions.add(ind)\n",
    "        mat[ind] = temp\n",
    "\n",
    "    return len(obstructions)\n",
    "\n",
    "pt2('test.txt'), pt2('input.txt')"
   ]
  }
 ],
 "metadata": {
  "kernelspec": {
   "display_name": "3.11.9",
   "language": "python",
   "name": "python3"
  },
  "language_info": {
   "codemirror_mode": {
    "name": "ipython",
    "version": 3
   },
   "file_extension": ".py",
   "mimetype": "text/x-python",
   "name": "python",
   "nbconvert_exporter": "python",
   "pygments_lexer": "ipython3",
   "version": "3.11.9"
  }
 },
 "nbformat": 4,
 "nbformat_minor": 2
}

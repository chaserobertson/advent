{
 "cells": [
  {
   "cell_type": "markdown",
   "metadata": {},
   "source": [
    "Part 1"
   ]
  },
  {
   "cell_type": "code",
   "execution_count": 1,
   "metadata": {},
   "outputs": [
    {
     "data": {
      "text/plain": [
       "(22, 55312, 186996)"
      ]
     },
     "execution_count": 1,
     "metadata": {},
     "output_type": "execute_result"
    }
   ],
   "source": [
    "def blink(stone):\n",
    "    if stone == 0:\n",
    "        new_stones = [1]\n",
    "    elif len(strone := str(stone)) % 2 == 0:\n",
    "        new_stones = [\n",
    "            int(strone[:len(strone)//2]), \n",
    "            int(strone[len(strone)//2:])\n",
    "        ]\n",
    "    else:\n",
    "        new_stones = [stone * 2024]\n",
    "    \n",
    "    return new_stones\n",
    "\n",
    "def pt1(filename, n_blinks=25):\n",
    "    with open(filename, 'r') as f:\n",
    "        stones = [int(x) for x in f.read().split()]\n",
    "    \n",
    "    for _ in range(n_blinks):\n",
    "        new_stone_lists = [blink(stone) for stone in stones]\n",
    "        new_stones = [ns for stone_list in new_stone_lists for ns in stone_list]\n",
    "        stones = new_stones\n",
    "    \n",
    "    return len(stones)\n",
    "\n",
    "pt1('test.txt', n_blinks=6), pt1('test.txt'), pt1('input.txt')"
   ]
  },
  {
   "cell_type": "markdown",
   "metadata": {},
   "source": [
    "Part 2"
   ]
  },
  {
   "cell_type": "code",
   "execution_count": 2,
   "metadata": {},
   "outputs": [
    {
     "data": {
      "text/plain": [
       "(22, 55312, 221683913164898)"
      ]
     },
     "execution_count": 2,
     "metadata": {},
     "output_type": "execute_result"
    }
   ],
   "source": [
    "def blink2(stone, n_blinks, cache):\n",
    "    if n_blinks < 1:\n",
    "        return 1\n",
    "    elif (stone, n_blinks) in cache:\n",
    "        return cache[(stone, n_blinks)]\n",
    "    \n",
    "    if stone == 0:\n",
    "        new_stones = [1]\n",
    "    elif len(strone := str(stone)) % 2 == 0:\n",
    "        new_stones = [\n",
    "            int(strone[:len(strone)//2]), \n",
    "            int(strone[len(strone)//2:])\n",
    "        ]\n",
    "    else:\n",
    "        new_stones = [stone * 2024]\n",
    "\n",
    "    cache_keys = [(ns, n_blinks - 1) for ns in new_stones]\n",
    "\n",
    "    for key in cache_keys:\n",
    "        if key not in cache:\n",
    "            cache[key] = blink2(*key, cache)\n",
    "\n",
    "    return sum(cache[key] for key in cache_keys)\n",
    "    \n",
    "def pt2(filename, n_blinks=25):\n",
    "    with open(filename, 'r') as f:\n",
    "        stones = [int(x) for x in f.read().split()]\n",
    "\n",
    "    cache = dict()\n",
    "\n",
    "    return sum(blink2(stone, n_blinks, cache) for stone in stones)\n",
    "\n",
    "pt2('test.txt', n_blinks=6), pt2('test.txt'), pt2('input.txt', n_blinks=75)"
   ]
  }
 ],
 "metadata": {
  "kernelspec": {
   "display_name": "3.11.9",
   "language": "python",
   "name": "python3"
  },
  "language_info": {
   "codemirror_mode": {
    "name": "ipython",
    "version": 3
   },
   "file_extension": ".py",
   "mimetype": "text/x-python",
   "name": "python",
   "nbconvert_exporter": "python",
   "pygments_lexer": "ipython3",
   "version": "3.11.9"
  }
 },
 "nbformat": 4,
 "nbformat_minor": 2
}

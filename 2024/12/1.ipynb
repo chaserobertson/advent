{
 "cells": [
  {
   "cell_type": "code",
   "execution_count": 1,
   "metadata": {},
   "outputs": [],
   "source": [
    "# Part 2 utilities\n",
    "\n",
    "NEIGHBORS_WITH_DIAG = set(\n",
    "    (x, y) \n",
    "    for x in range(-1, 2) \n",
    "    for y in range(-1, 2) \n",
    "    if not (x == 0 and y == 0)\n",
    ")\n",
    "# diagonal index mapped to shared neighbors between center and diagonal aka buddies\n",
    "DIAGONAL_GROUPS = {\n",
    "    (x, y): {(x, 0), (0, y)}\n",
    "    for x in [-1, 1] for y in [-1, 1]\n",
    "}\n",
    "\n",
    "def count_corners(region, data):\n",
    "    total_corners = 0\n",
    "    for i, j in sorted(region):\n",
    "        neighbors = set()\n",
    "        for x, y in NEIGHBORS_WITH_DIAG:\n",
    "            a, b = i + x, j + y\n",
    "            if a in range(len(data)) and b in range(len(data[a])) and data[a][b] == data[i][j]:\n",
    "                neighbors.add((x, y))\n",
    "\n",
    "        total_corners += sum(\n",
    "            any([\n",
    "                diagonal not in neighbors and buddies.issubset(neighbors), # inner corner on this diagonal\n",
    "                buddies.isdisjoint(neighbors) # outer corner; ignore diagonal\n",
    "            ])\n",
    "            for diagonal, buddies in DIAGONAL_GROUPS.items()\n",
    "        )\n",
    "    return total_corners\n",
    "\n",
    "# Part 1 utilities\n",
    "\n",
    "NEIGHBORS = [(0, 1), (0, -1), (1, 0), (-1, 0)]\n",
    "\n",
    "def make_region(i, j, region, data, edge_metric=None):\n",
    "    if (i, j) in region:\n",
    "        return set(), 0\n",
    "    \n",
    "    region.add((i, j))\n",
    "    perimeter = 4\n",
    "    \n",
    "    neighbors = set((i+x, j+y) for x, y in NEIGHBORS)\n",
    "    for a, b in neighbors:\n",
    "        if a in range(len(data)) and b in range(len(data[a])) and data[a][b] == data[i][j]:\n",
    "            subregion, subperimeter = make_region(a, b, region, data)\n",
    "            region.update(subregion)\n",
    "            perimeter += subperimeter - 1\n",
    "    \n",
    "    return region, (perimeter if not edge_metric else count_corners(region, data))"
   ]
  },
  {
   "cell_type": "markdown",
   "metadata": {},
   "source": [
    "Part 1"
   ]
  },
  {
   "cell_type": "code",
   "execution_count": 2,
   "metadata": {},
   "outputs": [
    {
     "data": {
      "text/plain": [
       "(140, 772, 1930, 1374934)"
      ]
     },
     "execution_count": 2,
     "metadata": {},
     "output_type": "execute_result"
    }
   ],
   "source": [
    "def pt1(filename, edge_metric=None):\n",
    "    with open(filename, 'r') as f:\n",
    "        data = f.read().splitlines()\n",
    "\n",
    "    visited = set()\n",
    "    price = 0\n",
    "    for i in range(len(data)):\n",
    "        for j in range(len(data)):\n",
    "            if (i, j) not in visited:\n",
    "                region, metric = make_region(i, j, set(), data, edge_metric)\n",
    "                visited.update(region)\n",
    "                price += len(region) * metric\n",
    "\n",
    "    return price\n",
    "\n",
    "pt1('test.txt'), pt1('test2.txt'), pt1('test3.txt'), pt1('input.txt')"
   ]
  },
  {
   "cell_type": "markdown",
   "metadata": {},
   "source": [
    "Part 2"
   ]
  },
  {
   "cell_type": "code",
   "execution_count": 3,
   "metadata": {},
   "outputs": [
    {
     "data": {
      "text/plain": [
       "(80, 436, 1206, 841078)"
      ]
     },
     "execution_count": 3,
     "metadata": {},
     "output_type": "execute_result"
    }
   ],
   "source": [
    "(\n",
    "    pt1('test.txt', edge_metric='sides'),\n",
    "    pt1('test2.txt', edge_metric='sides'),\n",
    "    pt1('test3.txt', edge_metric='sides'),\n",
    "    pt1('input.txt', edge_metric='sides')\n",
    ")"
   ]
  }
 ],
 "metadata": {
  "kernelspec": {
   "display_name": "3.11.9",
   "language": "python",
   "name": "python3"
  },
  "language_info": {
   "codemirror_mode": {
    "name": "ipython",
    "version": 3
   },
   "file_extension": ".py",
   "mimetype": "text/x-python",
   "name": "python",
   "nbconvert_exporter": "python",
   "pygments_lexer": "ipython3",
   "version": "3.11.9"
  }
 },
 "nbformat": 4,
 "nbformat_minor": 2
}

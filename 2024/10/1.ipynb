{
 "cells": [
  {
   "cell_type": "markdown",
   "metadata": {},
   "source": [
    "Part 1"
   ]
  },
  {
   "cell_type": "code",
   "execution_count": 1,
   "metadata": {},
   "outputs": [
    {
     "data": {
      "text/plain": [
       "(36, 607)"
      ]
     },
     "execution_count": 1,
     "metadata": {},
     "output_type": "execute_result"
    }
   ],
   "source": [
    "def traverse(i, j, grid, all_trails=False):\n",
    "    if grid[i][j] == '9':\n",
    "        return 1 if all_trails else {(i, j)}\n",
    "    \n",
    "    n, m = len(grid), len(grid[0])\n",
    "    height = grid[i][j]\n",
    "    search_height = str(int(height) + 1)\n",
    "\n",
    "    neighbors = list() if all_trails else set()\n",
    "    for x_dir, y_dir in [(1, 0), (-1, 0), (0, 1), (0, -1)]:\n",
    "        x, y = i + x_dir, j + y_dir\n",
    "        if x in range(n) and y in range(m) and grid[x][y] == search_height:\n",
    "            if all_trails:\n",
    "                neighbors.append(traverse(x, y, grid, all_trails))\n",
    "            else:\n",
    "                neighbors.update(traverse(x, y, grid, all_trails))\n",
    "    \n",
    "    return sum(neighbors) if all_trails else neighbors\n",
    "\n",
    "def pt1(filename, all_trails=False):\n",
    "    with open(filename, 'r') as f:\n",
    "        data = f.read().splitlines()\n",
    "\n",
    "    start_inds = [\n",
    "        (i, j)\n",
    "        for i in range(len(data))\n",
    "        for j in range(len(data[i]))\n",
    "        if data[i][j] == '0'\n",
    "    ]\n",
    "\n",
    "    scores = [traverse(i, j, data, all_trails) for i, j in start_inds]\n",
    "    \n",
    "    return sum(score if all_trails else len(score) for score in scores)\n",
    "\n",
    "pt1('test.txt'), pt1('input.txt')"
   ]
  },
  {
   "cell_type": "markdown",
   "metadata": {},
   "source": [
    "Part 2"
   ]
  },
  {
   "cell_type": "code",
   "execution_count": 2,
   "metadata": {},
   "outputs": [
    {
     "data": {
      "text/plain": [
       "(81, 1384)"
      ]
     },
     "execution_count": 2,
     "metadata": {},
     "output_type": "execute_result"
    }
   ],
   "source": [
    "pt1('test.txt', all_trails=True), pt1('input.txt', all_trails=True)"
   ]
  }
 ],
 "metadata": {
  "kernelspec": {
   "display_name": "3.11.9",
   "language": "python",
   "name": "python3"
  },
  "language_info": {
   "codemirror_mode": {
    "name": "ipython",
    "version": 3
   },
   "file_extension": ".py",
   "mimetype": "text/x-python",
   "name": "python",
   "nbconvert_exporter": "python",
   "pygments_lexer": "ipython3",
   "version": "3.11.9"
  }
 },
 "nbformat": 4,
 "nbformat_minor": 2
}

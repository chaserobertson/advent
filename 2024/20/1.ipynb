{
 "cells": [
  {
   "cell_type": "markdown",
   "metadata": {},
   "source": [
    "Part 1"
   ]
  },
  {
   "cell_type": "code",
   "execution_count": 50,
   "metadata": {},
   "outputs": [
    {
     "data": {
      "text/plain": [
       "(0, 1485)"
      ]
     },
     "execution_count": 50,
     "metadata": {},
     "output_type": "execute_result"
    }
   ],
   "source": [
    "MOVES = [(0, -1), (0, 1), (-1, 0), (1, 0)]\n",
    "\n",
    "def pt1(filename):\n",
    "    with open(filename, 'r') as f:\n",
    "        data = f.read().splitlines()\n",
    "\n",
    "    x, y = [(i, j) for i in range(len(data)) for j in range(len(data[i])) if data[i][j] == 'S'].pop()\n",
    "    path = [(x, y)]\n",
    "\n",
    "    while data[x][y] != 'E':\n",
    "        for m in MOVES:\n",
    "            i, j = x + m[0], y + m[1]\n",
    "            if (i, j) not in path and data[i][j] != '#':\n",
    "                x, y = i, j\n",
    "                break\n",
    "        path.append((x, y))\n",
    "\n",
    "    cheats = dict()\n",
    "    save100 = 0\n",
    "    for i in range(len(path)):\n",
    "        for j in range(i + 3, len(path)):\n",
    "            a, b = path[i], path[j]\n",
    "            lr_cheat = b[0] == a[0] and abs(b[1] - a[1]) == 2\n",
    "            ud_cheat = abs(b[0] - a[0]) == 2 and b[1] == a[1]\n",
    "            if (lr_cheat or ud_cheat):\n",
    "                saved = j - i - 2\n",
    "                if saved >= 100:\n",
    "                    save100 += 1\n",
    "                cheats.setdefault(saved, 0)\n",
    "                cheats[saved] += 1\n",
    "\n",
    "    return save100#, sum(cheats.values()), sorted(cheats.items())\n",
    "\n",
    "pt1('test.txt'), pt1('input.txt')"
   ]
  },
  {
   "cell_type": "markdown",
   "metadata": {},
   "source": [
    "Part 2"
   ]
  },
  {
   "cell_type": "code",
   "execution_count": 69,
   "metadata": {},
   "outputs": [
    {
     "data": {
      "text/plain": [
       "(0, 1027501)"
      ]
     },
     "execution_count": 69,
     "metadata": {},
     "output_type": "execute_result"
    }
   ],
   "source": [
    "def distance(a, b):\n",
    "    return abs(a[0] - b[0]) + abs(a[1] - b[1])\n",
    "\n",
    "def pt2(filename):\n",
    "    with open(filename, 'r') as f:\n",
    "        data = f.read().splitlines()\n",
    "\n",
    "    x, y = [(i, j) for i in range(len(data)) for j in range(len(data[i])) if data[i][j] == 'S'].pop()\n",
    "    path = [(x, y)]\n",
    "\n",
    "    while data[x][y] != 'E':\n",
    "        for m in MOVES:\n",
    "            i, j = x + m[0], y + m[1]\n",
    "            if (i, j) not in path and data[i][j] != '#':\n",
    "                x, y = i, j\n",
    "                break\n",
    "        path.append((x, y))\n",
    "\n",
    "    cheats = dict()\n",
    "    save100 = 0\n",
    "    for i in range(len(path)):\n",
    "        for j in range(i + 50, len(path)):\n",
    "            d = distance(path[i], path[j])\n",
    "            if d <= 20:\n",
    "                saved = j - i - d\n",
    "                if saved >= 100:\n",
    "                    save100 += 1\n",
    "                cheats.setdefault(saved, 0)\n",
    "                cheats[saved] += 1\n",
    "\n",
    "    return save100#, sum(cheats.values()), sorted(cheats.items())\n",
    "\n",
    "pt2('test.txt'), pt2('input.txt')"
   ]
  }
 ],
 "metadata": {
  "kernelspec": {
   "display_name": "3.11.9",
   "language": "python",
   "name": "python3"
  },
  "language_info": {
   "codemirror_mode": {
    "name": "ipython",
    "version": 3
   },
   "file_extension": ".py",
   "mimetype": "text/x-python",
   "name": "python",
   "nbconvert_exporter": "python",
   "pygments_lexer": "ipython3",
   "version": "3.11.9"
  }
 },
 "nbformat": 4,
 "nbformat_minor": 2
}

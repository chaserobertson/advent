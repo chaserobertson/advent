{
 "cells": [
  {
   "cell_type": "markdown",
   "metadata": {},
   "source": [
    "Part 1"
   ]
  },
  {
   "cell_type": "code",
   "execution_count": 1,
   "metadata": {},
   "outputs": [
    {
     "data": {
      "text/plain": [
       "(38438429, 14869099597)"
      ]
     },
     "execution_count": 1,
     "metadata": {},
     "output_type": "execute_result"
    }
   ],
   "source": [
    "def evolve(x):\n",
    "    x = (x ^ (x * 64)) % 16777216\n",
    "    x = (x ^ (x // 32)) % 16777216\n",
    "    x = (x ^ (x * 2048)) % 16777216\n",
    "    return x\n",
    "\n",
    "def pt1(filename):\n",
    "    with open(filename, 'r') as f:\n",
    "        data = [int(x) for x in f.read().splitlines()]\n",
    "\n",
    "    evolved_sum = 0\n",
    "    for number in data:\n",
    "        for _ in range(2000):\n",
    "            number = evolve(number)\n",
    "        evolved_sum += number\n",
    "\n",
    "    return evolved_sum\n",
    "\n",
    "pt1('test.txt'), pt1('input.txt')"
   ]
  },
  {
   "cell_type": "markdown",
   "metadata": {},
   "source": [
    "Part 2"
   ]
  },
  {
   "cell_type": "code",
   "execution_count": 2,
   "metadata": {},
   "outputs": [
    {
     "data": {
      "text/plain": [
       "(23, 1717)"
      ]
     },
     "execution_count": 2,
     "metadata": {},
     "output_type": "execute_result"
    }
   ],
   "source": [
    "import numpy as np\n",
    "\n",
    "def pt2(filename):\n",
    "    with open(filename, 'r') as f:\n",
    "        data = [int(x) for x in f.read().splitlines()]\n",
    "\n",
    "    sequence_map = dict()\n",
    "\n",
    "    for s, number in enumerate(data):\n",
    "        prices = [number % 10] + [None for _ in range(2000)]\n",
    "        for i in range(1, 2001):\n",
    "            number = evolve(number)\n",
    "            prices[i] = number % 10\n",
    "        \n",
    "        price_diff = np.diff(prices)\n",
    "\n",
    "        for i in range(4, 2001):\n",
    "            seq = tuple(price_diff[i-4:i])\n",
    "            if seq not in sequence_map:\n",
    "                sequence_map[seq] = [0 for _ in data]\n",
    "            if not sequence_map[seq][s]:\n",
    "                sequence_map[seq][s] = prices[i]\n",
    "                \n",
    "    max_ban = max(sum(v) for v in sequence_map.values())\n",
    "\n",
    "    return max_ban\n",
    "\n",
    "pt2('test2.txt'), pt2('input.txt')"
   ]
  }
 ],
 "metadata": {
  "kernelspec": {
   "display_name": "3.11.9",
   "language": "python",
   "name": "python3"
  },
  "language_info": {
   "codemirror_mode": {
    "name": "ipython",
    "version": 3
   },
   "file_extension": ".py",
   "mimetype": "text/x-python",
   "name": "python",
   "nbconvert_exporter": "python",
   "pygments_lexer": "ipython3",
   "version": "3.11.9"
  }
 },
 "nbformat": 4,
 "nbformat_minor": 2
}

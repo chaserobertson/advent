{
 "cells": [
  {
   "cell_type": "markdown",
   "metadata": {},
   "source": [
    "Part 1"
   ]
  },
  {
   "cell_type": "code",
   "execution_count": 1,
   "metadata": {},
   "outputs": [
    {
     "data": {
      "text/plain": [
       "('4,6,3,5,6,3,5,2,1,0', '2,1,0,1,7,2,5,0,3')"
      ]
     },
     "execution_count": 1,
     "metadata": {},
     "output_type": "execute_result"
    }
   ],
   "source": [
    "def run_program(A, B, C, prog):\n",
    "    output, i = [], 0\n",
    "\n",
    "    while i < len(prog):\n",
    "        combo = [0, 1, 2, 3, A, B, C]\n",
    "        opcode, op = prog[i:i+2]\n",
    "        match opcode:\n",
    "            case 0: A //= 2 ** combo[op]\n",
    "            case 1: B ^= op\n",
    "            case 2: B = combo[op] % 8\n",
    "            case 3 if A: i = op - 2\n",
    "            case 4: B ^= C\n",
    "            case 5: output.append(combo[op] % 8)\n",
    "            case 6: B = A // 2 ** combo[op]\n",
    "            case 7: C = A // 2 ** combo[op]\n",
    "        i += 2\n",
    "\n",
    "    return output\n",
    "\n",
    "def pt1(filename):\n",
    "    with open(filename, 'r') as f:\n",
    "        data = f.read().splitlines()\n",
    "    \n",
    "    A, B, C = (int(x.split(':')[1]) for x in data[:3])\n",
    "    prog = [int(x) for x in data[4].split(':')[1].split(',')]\n",
    "\n",
    "    return ','.join(str(x) for x in run_program(A, B, C, prog))\n",
    "\n",
    "pt1('test.txt'), pt1('input.txt')"
   ]
  },
  {
   "cell_type": "markdown",
   "metadata": {},
   "source": [
    "Part 2"
   ]
  },
  {
   "cell_type": "code",
   "execution_count": 2,
   "metadata": {},
   "outputs": [
    {
     "data": {
      "text/plain": [
       "(117440, 267265166222235)"
      ]
     },
     "execution_count": 2,
     "metadata": {},
     "output_type": "execute_result"
    }
   ],
   "source": [
    "def pt2(filename):\n",
    "    with open(filename, 'r') as f:\n",
    "        data = f.read().splitlines()\n",
    "    \n",
    "    A, B, C = (int(x.split(':')[1]) for x in data[:3])\n",
    "    prog = [int(x) for x in data[4].split(':')[1].split(',')]\n",
    "\n",
    "    def find_a(A, i):\n",
    "        p = run_program(A, B, C, prog)\n",
    "        if p == prog:\n",
    "            return A\n",
    "        \n",
    "        if not i or p == prog[-i:]:\n",
    "            for x in range(8):\n",
    "                a = find_a(8*A+x, i+1)\n",
    "                if a:\n",
    "                    return a\n",
    "\n",
    "    return find_a(0, 0)\n",
    "\n",
    "pt2('test2.txt'), pt2('input.txt')"
   ]
  }
 ],
 "metadata": {
  "kernelspec": {
   "display_name": "3.11.9",
   "language": "python",
   "name": "python3"
  },
  "language_info": {
   "codemirror_mode": {
    "name": "ipython",
    "version": 3
   },
   "file_extension": ".py",
   "mimetype": "text/x-python",
   "name": "python",
   "nbconvert_exporter": "python",
   "pygments_lexer": "ipython3",
   "version": "3.11.9"
  }
 },
 "nbformat": 4,
 "nbformat_minor": 2
}

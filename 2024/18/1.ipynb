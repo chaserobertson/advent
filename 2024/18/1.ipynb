{
 "cells": [
  {
   "cell_type": "markdown",
   "metadata": {},
   "source": [
    "Part 1"
   ]
  },
  {
   "cell_type": "code",
   "execution_count": 1,
   "metadata": {},
   "outputs": [
    {
     "data": {
      "text/plain": [
       "(22, 284)"
      ]
     },
     "execution_count": 1,
     "metadata": {},
     "output_type": "execute_result"
    }
   ],
   "source": [
    "import numpy as np\n",
    "import heapq\n",
    "\n",
    "def isValid(shape, index):\n",
    "    for i in range(len(shape)):\n",
    "        if not (0 <= index[i] < shape[i]):\n",
    "            return False\n",
    "    return True\n",
    "\n",
    "def fill_shortest_path(grid):\n",
    "    pq = []\n",
    "    heapq.heappush(pq, (0, (0, 0)))\n",
    "    while pq:\n",
    "        steps, loc = heapq.heappop(pq)\n",
    "        if grid[loc] >= 0:\n",
    "            continue\n",
    "        grid[loc] = steps\n",
    "    \n",
    "        for move in [(-1, 0), (1, 0), (0, -1), (0, 1)]:\n",
    "            next_loc = tuple(x + y for x, y in zip(loc, move))\n",
    "            if isValid(grid.shape, next_loc) and grid[next_loc] < 0:\n",
    "                heapq.heappush(pq, (steps + 1, next_loc))\n",
    "\n",
    "def pt1(filename, limit=6, fallen=12):\n",
    "    with open(filename, 'r') as f:\n",
    "        data = f.read().splitlines()\n",
    "    positions = [tuple(int(y) for y in x.split(',')[::-1]) for x in data]\n",
    "\n",
    "    grid = np.zeros((limit + 1, limit + 1)) - 1\n",
    "    for i in range(fallen):\n",
    "        grid[positions[i]] = np.inf\n",
    "    \n",
    "    fill_shortest_path(grid)\n",
    "\n",
    "    return int(grid[(limit, limit)])\n",
    "\n",
    "pt1('test.txt'), pt1('input.txt', limit=70, fallen=1024)"
   ]
  },
  {
   "cell_type": "code",
   "execution_count": 2,
   "metadata": {},
   "outputs": [
    {
     "data": {
      "text/plain": [
       "((6, 1), (51, 50))"
      ]
     },
     "execution_count": 2,
     "metadata": {},
     "output_type": "execute_result"
    }
   ],
   "source": [
    "def pt2(filename, limit=6):\n",
    "    with open(filename, 'r') as f:\n",
    "        data = f.read().splitlines()\n",
    "    positions = [tuple(int(y) for y in x.split(',')) for x in data]\n",
    "\n",
    "    low, high = 0, len(positions) - 1\n",
    "    while low < high:\n",
    "        mid = (low + high) // 2\n",
    "        if pt1(filename, limit, mid) == -1:\n",
    "            high = mid\n",
    "        else:\n",
    "            low = mid + 1\n",
    "\n",
    "    return positions[low-1]\n",
    "\n",
    "pt2('test.txt'), pt2('input.txt', limit=70)"
   ]
  }
 ],
 "metadata": {
  "kernelspec": {
   "display_name": "3.11.9",
   "language": "python",
   "name": "python3"
  },
  "language_info": {
   "codemirror_mode": {
    "name": "ipython",
    "version": 3
   },
   "file_extension": ".py",
   "mimetype": "text/x-python",
   "name": "python",
   "nbconvert_exporter": "python",
   "pygments_lexer": "ipython3",
   "version": "3.11.9"
  }
 },
 "nbformat": 4,
 "nbformat_minor": 2
}

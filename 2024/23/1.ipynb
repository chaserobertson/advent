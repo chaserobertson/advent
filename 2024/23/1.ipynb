{
 "cells": [
  {
   "cell_type": "markdown",
   "metadata": {},
   "source": [
    "Part 1"
   ]
  },
  {
   "cell_type": "code",
   "execution_count": 1,
   "metadata": {},
   "outputs": [
    {
     "data": {
      "text/plain": [
       "(7, 998)"
      ]
     },
     "execution_count": 1,
     "metadata": {},
     "output_type": "execute_result"
    }
   ],
   "source": [
    "def pt1(filename):\n",
    "    with open(filename, 'r') as f:\n",
    "        data = f.read().splitlines()\n",
    "    \n",
    "    connections = dict()\n",
    "    for line in data:\n",
    "        c1, c2 = line.split('-')\n",
    "        connections.setdefault(c1, set()).add(c2)\n",
    "        connections.setdefault(c2, set()).add(c1)\n",
    "\n",
    "    interconnected = set()\n",
    "    for c1 in connections:\n",
    "        for c2 in connections[c1]:\n",
    "            for c3 in connections[c2]:\n",
    "                if c3 in connections[c1]:\n",
    "                    interconnected.add(tuple(sorted((c1, c2, c3))))\n",
    "        \n",
    "    return len([grp for grp in interconnected if any(c[0] == 't' for c in grp)])\n",
    "\n",
    "pt1('test.txt'), pt1('input.txt')"
   ]
  },
  {
   "cell_type": "markdown",
   "metadata": {},
   "source": [
    "Part 2"
   ]
  },
  {
   "cell_type": "code",
   "execution_count": 2,
   "metadata": {},
   "outputs": [
    {
     "data": {
      "text/plain": [
       "('co,de,ka,ta', 'cc,ff,fh,fr,ny,oa,pl,rg,uj,wd,xn,xs,zw')"
      ]
     },
     "execution_count": 2,
     "metadata": {},
     "output_type": "execute_result"
    }
   ],
   "source": [
    "def pt2(filename):\n",
    "    with open(filename, 'r') as f:\n",
    "        data = f.read().splitlines()\n",
    "    \n",
    "    connections = dict()\n",
    "    for line in data:\n",
    "        c1, c2 = line.split('-')\n",
    "        connections.setdefault(c1, set()).add(c2)\n",
    "        connections.setdefault(c2, set()).add(c1)\n",
    "\n",
    "    parties = set()\n",
    "    for c1 in connections:\n",
    "        group = {c1}\n",
    "        for c2 in connections[c1]:\n",
    "            for c3 in connections[c2]:\n",
    "                if c3 in connections[c1] and all(x in connections[c3] for x in group):\n",
    "                    group.update({c2, c3})\n",
    "        parties.add(tuple(sorted(group)))\n",
    "        \n",
    "    max_pty_size = max(len(pty) for pty in parties)\n",
    "\n",
    "    for pty in parties:\n",
    "        if len(pty) == max_pty_size:\n",
    "            return ','.join(pty)\n",
    "\n",
    "pt2('test.txt'), pt2('input.txt')"
   ]
  }
 ],
 "metadata": {
  "kernelspec": {
   "display_name": "3.11.9",
   "language": "python",
   "name": "python3"
  },
  "language_info": {
   "codemirror_mode": {
    "name": "ipython",
    "version": 3
   },
   "file_extension": ".py",
   "mimetype": "text/x-python",
   "name": "python",
   "nbconvert_exporter": "python",
   "pygments_lexer": "ipython3",
   "version": "3.11.9"
  }
 },
 "nbformat": 4,
 "nbformat_minor": 2
}

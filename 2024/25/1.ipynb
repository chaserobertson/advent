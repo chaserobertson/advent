{
 "cells": [
  {
   "cell_type": "markdown",
   "metadata": {},
   "source": [
    "Part 1"
   ]
  },
  {
   "cell_type": "code",
   "execution_count": 1,
   "metadata": {},
   "outputs": [
    {
     "data": {
      "text/plain": [
       "(3, 3395)"
      ]
     },
     "execution_count": 1,
     "metadata": {},
     "output_type": "execute_result"
    }
   ],
   "source": [
    "def pt1(filename):\n",
    "    with open(filename, 'r') as f:\n",
    "        schematics = [line.split() for line in f.read().split('\\n\\n')]\n",
    "\n",
    "    locks, keys = [], []\n",
    "    for s in schematics:\n",
    "        is_lock = set(s[0]) == {'#'}\n",
    "\n",
    "        collection = locks if is_lock else keys\n",
    "        rng = range(1, len(s)) if is_lock else range(len(s) - 1)\n",
    "\n",
    "        collection.append([\n",
    "            [s[i][j] for i in rng].count('#')\n",
    "            for j in range(len(s[0]))\n",
    "        ])\n",
    "    \n",
    "    return sum(\n",
    "        all([l + k <= 5 for l, k in zip(lock, key)])\n",
    "        for lock in locks\n",
    "        for key in keys\n",
    "    )\n",
    "\n",
    "pt1('test.txt'), pt1('input.txt')"
   ]
  }
 ],
 "metadata": {
  "kernelspec": {
   "display_name": "3.11.9",
   "language": "python",
   "name": "python3"
  },
  "language_info": {
   "codemirror_mode": {
    "name": "ipython",
    "version": 3
   },
   "file_extension": ".py",
   "mimetype": "text/x-python",
   "name": "python",
   "nbconvert_exporter": "python",
   "pygments_lexer": "ipython3",
   "version": "3.11.9"
  }
 },
 "nbformat": 4,
 "nbformat_minor": 2
}

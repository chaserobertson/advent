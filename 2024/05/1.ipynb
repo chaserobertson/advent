{
 "cells": [
  {
   "cell_type": "markdown",
   "metadata": {},
   "source": [
    "Part 1"
   ]
  },
  {
   "cell_type": "code",
   "execution_count": 1,
   "metadata": {},
   "outputs": [
    {
     "data": {
      "text/plain": [
       "(143, 4689)"
      ]
     },
     "execution_count": 1,
     "metadata": {},
     "output_type": "execute_result"
    }
   ],
   "source": [
    "def setup(filename):\n",
    "    with open(filename, 'r') as f:\n",
    "        data = f.read().splitlines()\n",
    "\n",
    "    split_pt = data.index('')\n",
    "    rules = [[int(x) for x in line.split('|')] for line in data[:split_pt]]\n",
    "    updates = [[int(x) for x in line.split(',')] for line in data[split_pt+1:]]\n",
    "\n",
    "    precede_rules, follow_rules = dict(), dict()\n",
    "    for precedes, follows in rules:\n",
    "        precede_rules.setdefault(precedes, set()).add(follows)\n",
    "        follow_rules.setdefault(follows, set()).add(precedes)\n",
    "    \n",
    "    return updates, precede_rules, follow_rules\n",
    "\n",
    "def is_right_order(update, precede_rules, follow_rules):\n",
    "    right_order = True\n",
    "    for i in range(len(update)-1):\n",
    "        for j in range(i+1, len(update)):\n",
    "            right_order &= update[j] in precede_rules.get(update[i], {update[j]})\n",
    "            right_order &= update[i] in follow_rules.get(update[j], {update[i]})\n",
    "\n",
    "    return right_order\n",
    "\n",
    "def pt1(filename):\n",
    "    updates, precede_rules, follow_rules = setup(filename)\n",
    "\n",
    "    return sum(\n",
    "        update[len(update) // 2]\n",
    "        for update in updates\n",
    "        if is_right_order(update, precede_rules, follow_rules)\n",
    "    )\n",
    "\n",
    "pt1('test.txt'), pt1('input.txt')"
   ]
  },
  {
   "cell_type": "markdown",
   "metadata": {},
   "source": [
    "Part 2"
   ]
  },
  {
   "cell_type": "code",
   "execution_count": 2,
   "metadata": {},
   "outputs": [
    {
     "data": {
      "text/plain": [
       "(123, 6336)"
      ]
     },
     "execution_count": 2,
     "metadata": {},
     "output_type": "execute_result"
    }
   ],
   "source": [
    "\n",
    "def reorder(update, precede_rules, follow_rules):\n",
    "    remaining = set(update)\n",
    "    reordered = []\n",
    "\n",
    "    while remaining:\n",
    "        candidate = remaining.pop()\n",
    "        for j in range(len(reordered) + 1):\n",
    "            reordered.insert(j, candidate)\n",
    "            if is_right_order(reordered, precede_rules, follow_rules):\n",
    "                break\n",
    "            reordered.pop(j)\n",
    "\n",
    "    return reordered\n",
    "\n",
    "def pt2(filename):\n",
    "    updates, precede_rules, follow_rules = setup(filename)\n",
    "    \n",
    "    return sum(\n",
    "        reorder(update, precede_rules, follow_rules)[len(update) // 2]\n",
    "        for update in updates\n",
    "        if not is_right_order(update, precede_rules, follow_rules)\n",
    "    )\n",
    "\n",
    "pt2('test.txt'), pt2('input.txt')"
   ]
  }
 ],
 "metadata": {
  "kernelspec": {
   "display_name": "3.11.9",
   "language": "python",
   "name": "python3"
  },
  "language_info": {
   "codemirror_mode": {
    "name": "ipython",
    "version": 3
   },
   "file_extension": ".py",
   "mimetype": "text/x-python",
   "name": "python",
   "nbconvert_exporter": "python",
   "pygments_lexer": "ipython3",
   "version": "3.11.9"
  }
 },
 "nbformat": 4,
 "nbformat_minor": 2
}

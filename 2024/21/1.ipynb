{
 "cells": [
  {
   "cell_type": "markdown",
   "metadata": {},
   "source": [
    "Part 1"
   ]
  },
  {
   "cell_type": "code",
   "execution_count": 1,
   "metadata": {},
   "outputs": [
    {
     "data": {
      "text/plain": [
       "(126384, 184718)"
      ]
     },
     "execution_count": 1,
     "metadata": {},
     "output_type": "execute_result"
    }
   ],
   "source": [
    "def create_pads():\n",
    "    numpad = {\n",
    "        '7': (0, 0), '8': (0, 1), '9': (0, 2),\n",
    "        '4': (1, 0), '5': (1, 1), '6': (1, 2),\n",
    "        '1': (2, 0), '2': (2, 1), '3': (2, 2),\n",
    "                     '0': (3, 1), 'A': (3, 2),\n",
    "    }\n",
    "    dirpad = {\n",
    "                     '^': (0, 1), 'A': (0, 2),\n",
    "        '<': (1, 0), 'v': (1, 1), '>': (1, 2),\n",
    "    }\n",
    "    return numpad, dirpad\n",
    "\n",
    "def create_graph(keypad, invalid_coords):\n",
    "    graph = dict()\n",
    "    for a, (x1, y1) in keypad.items():\n",
    "        for b, (x2, y2) in keypad.items():\n",
    "            path = (\n",
    "                '<' * (y1 - y2)\n",
    "                + 'v' * (x2 - x1)\n",
    "                + '^' * (x1 - x2)\n",
    "                + '>' * (y2 - y1)\n",
    "            )\n",
    "            if invalid_coords in ((x1, y2), (x2, y1)):\n",
    "                path = path[::-1]\n",
    "            graph[(a, b)] = path + 'A'\n",
    "    return graph\n",
    "\n",
    "def setup(filename):\n",
    "    with open(filename, 'r') as f:\n",
    "        numpad_codes = f.read().splitlines()\n",
    "        \n",
    "    numpad, dirpad = create_pads()\n",
    "\n",
    "    return numpad_codes, create_graph(numpad, (3, 0)), create_graph(dirpad, (0, 0))\n",
    "\n",
    "def convert(text, graph):\n",
    "    return ''.join(\n",
    "        graph[(prev, curr)]\n",
    "        for prev, curr in zip('A' + text, text)\n",
    "    )\n",
    "\n",
    "def pt1(filename):\n",
    "    numpad_codes, numpad_graph, dirpad_graph = setup(filename)\n",
    "\n",
    "    complexity = 0\n",
    "    for numpad_code in numpad_codes:\n",
    "        robot1 = convert(numpad_code, numpad_graph)\n",
    "        robot2 = convert(robot1, dirpad_graph)\n",
    "        me = convert(robot2, dirpad_graph)\n",
    "\n",
    "        numeric_part = ''.join(x for x in numpad_code if x.isdigit())\n",
    "        complexity += int(numeric_part) * len(me)\n",
    "\n",
    "    return complexity\n",
    "\n",
    "pt1('test.txt'), pt1('input.txt')"
   ]
  },
  {
   "cell_type": "code",
   "execution_count": 2,
   "metadata": {},
   "outputs": [
    {
     "data": {
      "text/plain": [
       "228800606998554"
      ]
     },
     "execution_count": 2,
     "metadata": {},
     "output_type": "execute_result"
    }
   ],
   "source": [
    "from functools import cache\n",
    "\n",
    "def pt2(filename):\n",
    "    numpad_codes, numpad_graph, dirpad_graph = setup(filename)\n",
    "\n",
    "    @cache\n",
    "    def get_length(text, iterations, pad_type='dir') -> int:\n",
    "        if not iterations: \n",
    "            return len(text)\n",
    "        \n",
    "        graph = numpad_graph if pad_type == 'num' else dirpad_graph\n",
    "\n",
    "        return sum(\n",
    "            get_length(graph[(prev, curr)], iterations - 1)\n",
    "            for prev, curr in zip('A' + text, text)\n",
    "        )\n",
    "\n",
    "    complexity = 0\n",
    "    for numpad_code in numpad_codes:\n",
    "        numeric_part = ''.join(x for x in numpad_code if x.isdigit())\n",
    "        complexity += int(numeric_part) * get_length(numpad_code, 26, 'num')\n",
    "\n",
    "    return complexity\n",
    "\n",
    "pt2('input.txt')"
   ]
  }
 ],
 "metadata": {
  "kernelspec": {
   "display_name": "3.11.9",
   "language": "python",
   "name": "python3"
  },
  "language_info": {
   "codemirror_mode": {
    "name": "ipython",
    "version": 3
   },
   "file_extension": ".py",
   "mimetype": "text/x-python",
   "name": "python",
   "nbconvert_exporter": "python",
   "pygments_lexer": "ipython3",
   "version": "3.11.9"
  }
 },
 "nbformat": 4,
 "nbformat_minor": 2
}

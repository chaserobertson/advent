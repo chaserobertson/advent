{
 "cells": [
  {
   "cell_type": "markdown",
   "metadata": {},
   "source": [
    "Part 1"
   ]
  },
  {
   "cell_type": "code",
   "execution_count": 1,
   "metadata": {},
   "outputs": [
    {
     "data": {
      "text/plain": [
       "(4, 2024, 65635066541798)"
      ]
     },
     "execution_count": 1,
     "metadata": {},
     "output_type": "execute_result"
    }
   ],
   "source": [
    "class Gate():\n",
    "    def __init__(self, x, gate_type, y, z):\n",
    "        assert gate_type in {'AND', 'OR', 'XOR'}\n",
    "\n",
    "        self.executed = False\n",
    "        self.x = x\n",
    "        self.type = gate_type\n",
    "        self.y = y\n",
    "        self.z = z\n",
    "    \n",
    "    def __str__(self):\n",
    "        return f'{self.x} {self.type} {self.y} -> {self.z}'\n",
    "    \n",
    "    def execute(self, registers):\n",
    "        match self.type:\n",
    "            case 'AND':\n",
    "                registers[self.z] = registers[self.x] & registers[self.y]\n",
    "            case 'OR':\n",
    "                registers[self.z] = registers[self.x] | registers[self.y]\n",
    "            case 'XOR':\n",
    "                registers[self.z] = registers[self.x] ^ registers[self.y]\n",
    "\n",
    "        self.executed = True\n",
    "        return registers\n",
    "\n",
    "def pt1(filename):\n",
    "    with open(filename, 'r') as f:\n",
    "        reg_strs, gate_strs = (x.splitlines() for x in f.read().strip().split('\\n\\n'))\n",
    "\n",
    "    registers = dict()\n",
    "    for rs in reg_strs:\n",
    "        reg, val = rs.split(': ')\n",
    "        registers[reg] = int(val)\n",
    "\n",
    "    gates = []\n",
    "    for gs in gate_strs:\n",
    "        x, gate_type, y, _, z = gs.split()\n",
    "        gates.append(Gate(x, gate_type, y, z))\n",
    "\n",
    "    while not all(g.executed for g in gates):\n",
    "        for g in gates:\n",
    "            if g.executed:\n",
    "                continue\n",
    "            if g.x in registers and g.y in registers:\n",
    "                registers = g.execute(registers)\n",
    "\n",
    "    bstr = ''.join(str(registers[k]) for k in sorted(registers, reverse=True) if 'z' in k)\n",
    "\n",
    "    return int(bstr, 2)\n",
    "\n",
    "pt1('test.txt'), pt1('test2.txt'), pt1('input.txt')"
   ]
  },
  {
   "cell_type": "markdown",
   "metadata": {},
   "source": [
    "Part 2"
   ]
  },
  {
   "cell_type": "code",
   "execution_count": 2,
   "metadata": {},
   "outputs": [
    {
     "data": {
      "text/plain": [
       "('z00,z01,z02,z03,z04', 'dgr,dtv,fgc,mtj,vvm,z12,z29,z37')"
      ]
     },
     "execution_count": 2,
     "metadata": {},
     "output_type": "execute_result"
    }
   ],
   "source": [
    "def pt2(filename):\n",
    "    with open(filename, 'r') as f:\n",
    "        reg_strs, gate_strs = (x.splitlines() for x in f.read().strip().split('\\n\\n'))\n",
    "\n",
    "    registers = dict()\n",
    "    for rs in reg_strs:\n",
    "        reg, val = rs.split(': ')\n",
    "        registers[reg] = int(val)\n",
    "\n",
    "    gates = []\n",
    "    for gs in gate_strs:\n",
    "        x, gate_type, y, _, z = gs.split()\n",
    "        x, y = sorted((x, y))\n",
    "        gates.append(Gate(x, gate_type, y, z))\n",
    "\n",
    "    max_z = max(g.z for g in gates)\n",
    "\n",
    "    swapped_wires = set()\n",
    "    for g in gates:\n",
    "        wrong_output = all(['z' in g.z, g.type != 'XOR', g.z != max_z])\n",
    "        wrong_output |= all(s[0] not in 'xyz' for s in [g.x, g.y, g.z]) and g.type == 'XOR'\n",
    "        for subg in gates:\n",
    "            if g.z in (subg.x, subg.y):\n",
    "                wrong_output |= g.type == 'AND' and subg.type != 'OR' and 'x00' not in [g.x, g.y]\n",
    "                wrong_output |= g.type == 'XOR' and subg.type == 'OR'\n",
    "\n",
    "        if wrong_output:\n",
    "            swapped_wires.add(g.z)\n",
    "\n",
    "    return ','.join(sorted(swapped_wires))\n",
    "\n",
    "pt2('testpt2.txt'), pt2('input.txt')"
   ]
  }
 ],
 "metadata": {
  "kernelspec": {
   "display_name": "3.11.9",
   "language": "python",
   "name": "python3"
  },
  "language_info": {
   "codemirror_mode": {
    "name": "ipython",
    "version": 3
   },
   "file_extension": ".py",
   "mimetype": "text/x-python",
   "name": "python",
   "nbconvert_exporter": "python",
   "pygments_lexer": "ipython3",
   "version": "3.11.9"
  }
 },
 "nbformat": 4,
 "nbformat_minor": 2
}

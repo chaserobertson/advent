{
 "cells": [
  {
   "cell_type": "markdown",
   "metadata": {},
   "source": [
    "Part 1"
   ]
  },
  {
   "cell_type": "code",
   "execution_count": 1,
   "metadata": {},
   "outputs": [],
   "source": [
    "import numpy as np"
   ]
  },
  {
   "cell_type": "code",
   "execution_count": 2,
   "metadata": {},
   "outputs": [
    {
     "data": {
      "text/plain": [
       "(18, 2593)"
      ]
     },
     "execution_count": 2,
     "metadata": {},
     "output_type": "execute_result"
    }
   ],
   "source": [
    "def match_directional_str(matrix, x, y, dir, remaining_str):\n",
    "    n, m = matrix.shape\n",
    "\n",
    "    if not remaining_str:\n",
    "        result = 1\n",
    "    elif x in range(n) and y in range(m) and matrix[x, y] == remaining_str[0]:\n",
    "        result = match_directional_str(matrix, x + dir[0], y + dir[1], dir, remaining_str[1:])\n",
    "    else:\n",
    "        result = 0\n",
    "        \n",
    "    return result\n",
    "\n",
    "def pt1(filename, match_str='XMAS'):\n",
    "    with open(filename, 'r') as f:\n",
    "        mat = np.array([[c for c in s] for s in f.read().splitlines()])\n",
    "\n",
    "    start_inds = np.transpose((mat == match_str[0]).nonzero())\n",
    "    directions = [(x, y) for x in range(-1, 2) for y in range(-1, 2)]\n",
    "\n",
    "    return sum(\n",
    "        match_directional_str(mat, i+x, j+y, (x, y), match_str[1:])\n",
    "        for i, j in start_inds\n",
    "        for x, y in directions\n",
    "    )\n",
    "\n",
    "pt1('test.txt'), pt1('input.txt')"
   ]
  },
  {
   "cell_type": "code",
   "execution_count": 3,
   "metadata": {},
   "outputs": [
    {
     "data": {
      "text/plain": [
       "(9, 1950)"
      ]
     },
     "execution_count": 3,
     "metadata": {},
     "output_type": "execute_result"
    }
   ],
   "source": [
    "def pt2(filename, target_set={'M', 'S'}):\n",
    "    with open(filename, 'r') as f:\n",
    "        mat = np.array([[c for c in s] for s in f.read().splitlines()])\n",
    "\n",
    "    n, m = mat.shape\n",
    "    start_inds = np.transpose((mat == 'A').nonzero())\n",
    "\n",
    "    return sum(\n",
    "        target_set == {mat[i-1, j-1], mat[i+1, j+1]} == {mat[i-1, j+1], mat[i+1, j-1]}\n",
    "        for i, j in start_inds\n",
    "        if i in range(1, n-1) and j in range(1, m-1)\n",
    "    )\n",
    "\n",
    "pt2('test.txt'), pt2('input.txt')"
   ]
  }
 ],
 "metadata": {
  "kernelspec": {
   "display_name": "3.11.9",
   "language": "python",
   "name": "python3"
  },
  "language_info": {
   "codemirror_mode": {
    "name": "ipython",
    "version": 3
   },
   "file_extension": ".py",
   "mimetype": "text/x-python",
   "name": "python",
   "nbconvert_exporter": "python",
   "pygments_lexer": "ipython3",
   "version": "3.11.9"
  }
 },
 "nbformat": 4,
 "nbformat_minor": 2
}

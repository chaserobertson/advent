{
 "cells": [
  {
   "cell_type": "markdown",
   "metadata": {},
   "source": [
    "Part 1"
   ]
  },
  {
   "cell_type": "code",
   "execution_count": null,
   "metadata": {},
   "outputs": [
    {
     "data": {
      "text/plain": [
       "(2028, 10092, 1499739)"
      ]
     },
     "execution_count": 37,
     "metadata": {},
     "output_type": "execute_result"
    }
   ],
   "source": [
    "import numpy as np\n",
    "\n",
    "MOVES = {'<': np.array((0, -1)), '^': np.array((-1, 0)), '>': np.array((0, 1)), 'v': np.array((1, 0))}\n",
    "\n",
    "def print_map(wh_map):\n",
    "    for line in wh_map:\n",
    "        print(''.join(line))\n",
    "    print()\n",
    "\n",
    "def pt1(filename):\n",
    "    with open(filename, 'r') as f:\n",
    "        data = f.read().split('\\n\\n')\n",
    "\n",
    "    wh_map = np.array([list(s) for s in data[0].splitlines()])\n",
    "    moves = data[1].replace('\\n', '')\n",
    "\n",
    "    # print('initial state')\n",
    "    # print_map(wh_map)\n",
    "    \n",
    "    robot = list(zip(*np.where(wh_map == '@'))).pop()\n",
    "    \n",
    "    for move in moves:\n",
    "        xy = MOVES[move]\n",
    "        dest = robot + xy\n",
    "        if wh_map[tuple(dest)] == '.':\n",
    "            wh_map[tuple(robot)] = '.'\n",
    "            wh_map[tuple(dest)] = '@'\n",
    "            robot = dest\n",
    "        elif wh_map[tuple(dest)] == 'O':\n",
    "            endpt = dest.copy()\n",
    "            while wh_map[tuple(endpt)] == 'O':\n",
    "                endpt += xy\n",
    "            if wh_map[tuple(endpt)] == '.':\n",
    "                wh_map[tuple(robot)] = '.'\n",
    "                wh_map[tuple(dest)] = '@'\n",
    "                wh_map[tuple(endpt)] = 'O'\n",
    "                robot = dest\n",
    "\n",
    "    # print('final state')\n",
    "    # print_map(wh_map)\n",
    "\n",
    "    box_inds = list(zip(*np.where(wh_map == 'O')))\n",
    "    return sum(x * 100 + y for x, y in box_inds)\n",
    "\n",
    "pt1('test.txt'), pt1('test2.txt'), pt1('input.txt')"
   ]
  },
  {
   "cell_type": "markdown",
   "metadata": {},
   "source": [
    "Part 2"
   ]
  },
  {
   "cell_type": "code",
   "execution_count": 97,
   "metadata": {},
   "outputs": [
    {
     "data": {
      "text/plain": [
       "(9021, 1522215)"
      ]
     },
     "execution_count": 97,
     "metadata": {},
     "output_type": "execute_result"
    }
   ],
   "source": [
    "def push_lr(robot, xy, wh_map):\n",
    "    endpt = robot + xy\n",
    "    while wh_map[tuple(endpt)] in '[]':\n",
    "        endpt += xy\n",
    "    if wh_map[tuple(endpt)] != '.':\n",
    "        return robot\n",
    "    \n",
    "    while not np.all(endpt == robot):\n",
    "        wh_map[tuple(endpt)] = wh_map[tuple(endpt - xy)]\n",
    "        endpt -= xy\n",
    "    wh_map[tuple(endpt)] = '.'\n",
    "    return endpt + xy\n",
    "\n",
    "def push_ud(robot, xy, wh_map):\n",
    "    push_pts = [set([tuple(robot)])]\n",
    "    stop = False\n",
    "    while not stop:\n",
    "        next_row = set()\n",
    "        for pt in push_pts[-1]:\n",
    "            next_pt = np.array(pt) + xy\n",
    "            if wh_map[tuple(next_pt)] == '#':\n",
    "                stop = True\n",
    "                break\n",
    "            elif wh_map[tuple(next_pt)] == '.':\n",
    "                pass\n",
    "            else:\n",
    "                next_row.add(tuple(next_pt))\n",
    "                if wh_map[tuple(next_pt)] == '[':\n",
    "                    buddy = next_pt.copy()\n",
    "                    buddy[1] += 1\n",
    "                    next_row.add(tuple(buddy))\n",
    "                elif wh_map[tuple(next_pt)] == ']':\n",
    "                    buddy = next_pt.copy()\n",
    "                    buddy[1] -= 1\n",
    "                    next_row.add(tuple(buddy))\n",
    "        if not next_row:\n",
    "            break\n",
    "        push_pts.append(next_row)\n",
    "\n",
    "    if not stop:\n",
    "        for row in push_pts[::-1]:\n",
    "            for pt in row:\n",
    "                wh_map[tuple(pt + xy)] = wh_map[tuple(pt)]\n",
    "                wh_map[tuple(pt)] = '.'\n",
    "        return robot + xy\n",
    "    return robot\n",
    "\n",
    "    \n",
    "def pt2(filename):\n",
    "    with open(filename, 'r') as f:\n",
    "        data = f.read().replace('.', '..').replace('@', '@.').replace('O', '[]').replace('#', '##').split('\\n\\n')\n",
    "\n",
    "    wh_map = np.array([list(s) for s in data[0].splitlines()])\n",
    "    moves = data[1].replace('\\n', '')\n",
    "\n",
    "    # print('initial state')\n",
    "    # print_map(wh_map)\n",
    "    \n",
    "    robot = np.array(list(zip(*np.where(wh_map == '@'))).pop())\n",
    "    \n",
    "    for move in moves:\n",
    "        xy = MOVES[move]\n",
    "        dest = robot + xy\n",
    "        if wh_map[tuple(dest)] == '.':\n",
    "            wh_map[tuple(robot)] = '.'\n",
    "            wh_map[tuple(dest)] = '@'\n",
    "            robot = dest\n",
    "        elif wh_map[tuple(dest)] in '[]':\n",
    "            if xy[1]:\n",
    "                robot = push_lr(robot, xy, wh_map)\n",
    "            else:\n",
    "                robot = push_ud(robot, xy, wh_map)\n",
    "\n",
    "        # print('move', move)\n",
    "        # print_map(wh_map)\n",
    "\n",
    "    # print('final state')\n",
    "    # print_map(wh_map)\n",
    "\n",
    "    box_inds = list(zip(*np.where(wh_map == '[')))\n",
    "    return sum(x * 100 + y for x, y in box_inds)\n",
    "\n",
    "# pt2('test3.txt'), \n",
    "pt2('test2.txt'), pt2('input.txt')"
   ]
  }
 ],
 "metadata": {
  "kernelspec": {
   "display_name": "3.11.9",
   "language": "python",
   "name": "python3"
  },
  "language_info": {
   "codemirror_mode": {
    "name": "ipython",
    "version": 3
   },
   "file_extension": ".py",
   "mimetype": "text/x-python",
   "name": "python",
   "nbconvert_exporter": "python",
   "pygments_lexer": "ipython3",
   "version": "3.11.9"
  }
 },
 "nbformat": 4,
 "nbformat_minor": 2
}

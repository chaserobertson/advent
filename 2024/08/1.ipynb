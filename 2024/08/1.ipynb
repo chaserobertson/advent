{
 "cells": [
  {
   "cell_type": "markdown",
   "metadata": {},
   "source": [
    "Part 1"
   ]
  },
  {
   "cell_type": "code",
   "execution_count": 1,
   "metadata": {},
   "outputs": [
    {
     "data": {
      "text/plain": [
       "(14, 299)"
      ]
     },
     "execution_count": 1,
     "metadata": {},
     "output_type": "execute_result"
    }
   ],
   "source": [
    "def parse_file(filename):\n",
    "    with open(filename, 'r') as f:\n",
    "        data = f.read().splitlines()\n",
    "    \n",
    "    n, m = len(data), len(data[0])\n",
    "\n",
    "    antennas = dict()\n",
    "    for i in range(n):\n",
    "        for j in range(m):\n",
    "            if data[i][j] != '.':\n",
    "                antennas.setdefault(data[i][j], []).append((i, j))\n",
    "    \n",
    "    return antennas, (n, m)\n",
    "\n",
    "def pt1(filename, include_dists=range(1, 2)):\n",
    "    antennas, (n, m) = parse_file(filename)\n",
    "\n",
    "    antinodes = set()\n",
    "    for locs in antennas.values():\n",
    "        for i in range(len(locs)):\n",
    "            for j in range(i + 1, len(locs)):\n",
    "                x1, y1 = locs[i]\n",
    "                x2, y2 = locs[j]\n",
    "                x_diff, y_diff = x2 - x1, y2 - y1\n",
    "\n",
    "                for x, y, direction in [(x1, y1, -1), (x2, y2, 1)]:\n",
    "                    d, in_bounds = 0, True\n",
    "                    while in_bounds and 0 <= d < len(include_dists):\n",
    "                        x_new = x + x_diff * direction * include_dists[d]\n",
    "                        y_new = y + y_diff * direction * include_dists[d]\n",
    "                        if 0 <= x_new < n and 0 <= y_new < m:\n",
    "                            antinodes.add((x_new, y_new))\n",
    "                        else:\n",
    "                            in_bounds = False\n",
    "                        d += 1\n",
    "                \n",
    "\n",
    "    return len(antinodes)\n",
    "\n",
    "pt1('test.txt'), pt1('input.txt')"
   ]
  },
  {
   "cell_type": "markdown",
   "metadata": {},
   "source": [
    "Part 2"
   ]
  },
  {
   "cell_type": "code",
   "execution_count": 2,
   "metadata": {},
   "outputs": [
    {
     "data": {
      "text/plain": [
       "(34, 1032)"
      ]
     },
     "execution_count": 2,
     "metadata": {},
     "output_type": "execute_result"
    }
   ],
   "source": [
    "pt1('test.txt', range(99)), pt1('input.txt', range(99))"
   ]
  }
 ],
 "metadata": {
  "kernelspec": {
   "display_name": "3.11.9",
   "language": "python",
   "name": "python3"
  },
  "language_info": {
   "codemirror_mode": {
    "name": "ipython",
    "version": 3
   },
   "file_extension": ".py",
   "mimetype": "text/x-python",
   "name": "python",
   "nbconvert_exporter": "python",
   "pygments_lexer": "ipython3",
   "version": "3.11.9"
  }
 },
 "nbformat": 4,
 "nbformat_minor": 2
}

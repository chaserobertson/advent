{
 "cells": [
  {
   "cell_type": "markdown",
   "metadata": {},
   "source": [
    "Part 1"
   ]
  },
  {
   "cell_type": "code",
   "execution_count": 1,
   "metadata": {},
   "outputs": [
    {
     "data": {
      "text/plain": [
       "(480, 31552)"
      ]
     },
     "execution_count": 1,
     "metadata": {},
     "output_type": "execute_result"
    }
   ],
   "source": [
    "import numpy as np\n",
    "\n",
    "A_COST = 3\n",
    "B_COST = 1\n",
    "\n",
    "class ClawMachine:\n",
    "    def __init__(self, text, offset):\n",
    "        text_lines = text.split('\\n')\n",
    "        A = text_lines[0].split(': ')[1].split(', ')\n",
    "        B = text_lines[1].split(': ')[1].split(', ')\n",
    "        P = text_lines[2].split(': ')[1].split(', ')\n",
    "        self.a = np.array([int(s[1:]) for s in A])\n",
    "        self.b = np.array([int(s[1:]) for s in B])\n",
    "        self.p = np.array([int(s[2:]) for s in P]) + offset\n",
    "\n",
    "    def __str__(self):\n",
    "        return str(dict(a=self.a, b=self.b, p=self.p))\n",
    "\n",
    "def pt1(filename):\n",
    "    with open(filename, 'r') as f:\n",
    "        data = f.read().split('\\n\\n')\n",
    "    machines = [ClawMachine(line, 0) for line in data]\n",
    "\n",
    "    n_tokens = 0\n",
    "    for m in machines:\n",
    "        diff = m.p - m.a * np.array([range(101)]).transpose()\n",
    "        diffmod = diff % m.b\n",
    "        mod0 = np.all(diffmod == 0, axis=1)\n",
    "\n",
    "        diffdiv = diff / m.b\n",
    "        divmatch = diffdiv[:, 0] == diffdiv[:, 1]\n",
    "\n",
    "        a = np.nonzero(np.logical_and(mod0, divmatch))[0]\n",
    "        if len(a) > 0:\n",
    "            b = diff[a[0]] // m.b\n",
    "            n_tokens += a[0] * A_COST + b[0] * B_COST\n",
    "\n",
    "    return n_tokens\n",
    "\n",
    "pt1('test.txt'), pt1('input.txt')"
   ]
  },
  {
   "cell_type": "code",
   "execution_count": 2,
   "metadata": {},
   "outputs": [
    {
     "data": {
      "text/plain": [
       "(875318608908, 95273925552482)"
      ]
     },
     "execution_count": 2,
     "metadata": {},
     "output_type": "execute_result"
    }
   ],
   "source": [
    "def pt2(filename, offset=0):\n",
    "    with open(filename, 'r') as f:\n",
    "        data = f.read().split('\\n\\n')\n",
    "    machines = [ClawMachine(line, offset) for line in data]\n",
    "\n",
    "    n_tokens = 0\n",
    "    for m in machines:\n",
    "        (ax, ay), (bx, by), (x, y) = m.a, m.b, m.p\n",
    "        a = (bx * y - by * x) / (bx * ay - by * ax)\n",
    "        b = (x - ax * a) / bx\n",
    "        if abs(a - round(a)) < 0.0001 and abs(b - round(b)) < 0.0001:\n",
    "            n_tokens += int(a*A_COST + b*B_COST)\n",
    "\n",
    "    return n_tokens\n",
    "\n",
    "pt2('test.txt', offset=10000000000000), pt2('input.txt', offset=10000000000000)"
   ]
  }
 ],
 "metadata": {
  "kernelspec": {
   "display_name": "3.11.9",
   "language": "python",
   "name": "python3"
  },
  "language_info": {
   "codemirror_mode": {
    "name": "ipython",
    "version": 3
   },
   "file_extension": ".py",
   "mimetype": "text/x-python",
   "name": "python",
   "nbconvert_exporter": "python",
   "pygments_lexer": "ipython3",
   "version": "3.11.9"
  }
 },
 "nbformat": 4,
 "nbformat_minor": 2
}

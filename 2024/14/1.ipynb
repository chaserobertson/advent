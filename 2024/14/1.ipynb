{
 "cells": [
  {
   "cell_type": "markdown",
   "metadata": {},
   "source": [
    "Part 1"
   ]
  },
  {
   "cell_type": "code",
   "execution_count": 2,
   "metadata": {},
   "outputs": [
    {
     "data": {
      "text/plain": [
       "(12, 214109808)"
      ]
     },
     "execution_count": 2,
     "metadata": {},
     "output_type": "execute_result"
    }
   ],
   "source": [
    "from re import findall\n",
    "import numpy as np\n",
    "\n",
    "def pt1(filename, width=11, height=7, elapsed=100):\n",
    "    with open(filename, 'r') as f:\n",
    "        data = [\n",
    "            [int(x) for x in findall('-?\\d+', line)]\n",
    "            for line in f.read().splitlines()\n",
    "        ]\n",
    "    \n",
    "    space = [[0 for _ in range(width)] for _ in range(height)]\n",
    "\n",
    "    for px, py, vx, vy in data:\n",
    "        x = (px + vx * elapsed) % width\n",
    "        y = (py + vy * elapsed) % height\n",
    "        space[y][x] += 1\n",
    "    \n",
    "    top_left =  [space[i][:width // 2] for i in range(height // 2)]\n",
    "    top_right = [space[i][-(width // 2):] for i in range(height // 2)]\n",
    "    bot_left =  [space[i][:width // 2] for i in range(height // 2 + 1, height)]\n",
    "    bot_right = [space[i][-(width // 2):] for i in range(height // 2 + 1, height)]\n",
    "\n",
    "    return np.prod([np.sum(q) for q in [top_left, top_right, bot_left, bot_right]])\n",
    "\n",
    "pt1('test.txt'), pt1('input.txt', width=101, height=103)"
   ]
  },
  {
   "cell_type": "markdown",
   "metadata": {},
   "source": [
    "Part 2"
   ]
  },
  {
   "cell_type": "code",
   "execution_count": null,
   "metadata": {},
   "outputs": [
    {
     "data": {
      "text/plain": [
       "(1, 7687)"
      ]
     },
     "execution_count": 4,
     "metadata": {},
     "output_type": "execute_result"
    }
   ],
   "source": [
    "def pt2(filename, width=11, height=7, elapsed=100):\n",
    "    with open(filename, 'r') as f:\n",
    "        data = [\n",
    "            [int(x) for x in findall('-?\\d+', line)]\n",
    "            for line in f.read().splitlines()\n",
    "        ]\n",
    "\n",
    "    for sec in range(elapsed):\n",
    "        space = dict()\n",
    "\n",
    "        for px, py, vx, vy in data:\n",
    "            x = (px + vx * sec) % width\n",
    "            y = (py + vy * sec) % height\n",
    "            space.setdefault((x, y), 0)\n",
    "            space[(x, y)] += 1\n",
    "\n",
    "        if all(v == 1 for v in space.values()):\n",
    "            return sec\n",
    "\n",
    "pt2('test.txt'), pt2('input.txt', width=101, height=103, elapsed=10000)"
   ]
  }
 ],
 "metadata": {
  "kernelspec": {
   "display_name": "3.11.9",
   "language": "python",
   "name": "python3"
  },
  "language_info": {
   "codemirror_mode": {
    "name": "ipython",
    "version": 3
   },
   "file_extension": ".py",
   "mimetype": "text/x-python",
   "name": "python",
   "nbconvert_exporter": "python",
   "pygments_lexer": "ipython3",
   "version": "3.11.9"
  }
 },
 "nbformat": 4,
 "nbformat_minor": 2
}

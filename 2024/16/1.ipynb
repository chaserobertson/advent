{
 "cells": [
  {
   "cell_type": "markdown",
   "metadata": {},
   "source": [
    "Part 1"
   ]
  },
  {
   "cell_type": "code",
   "execution_count": 1,
   "metadata": {},
   "outputs": [
    {
     "data": {
      "text/plain": [
       "(7036, 147628)"
      ]
     },
     "execution_count": 1,
     "metadata": {},
     "output_type": "execute_result"
    }
   ],
   "source": [
    "import numpy as np\n",
    "import heapq\n",
    "\n",
    "DIRECTIONS = [(-1, 0), (0, -1), (0, 1), (1, 0)]\n",
    "\n",
    "def traverse(start, end, data):\n",
    "    facing = (0, 1)\n",
    "    pq, cache = [], {}\n",
    "    heapq.heappush(pq, (0, facing, start))\n",
    "\n",
    "    while pq:\n",
    "        cur_score, facing, current = heapq.heappop(pq)\n",
    "        cache[(current, facing)] = cur_score\n",
    "        if current == end:\n",
    "            break\n",
    "        for direction in DIRECTIONS:\n",
    "            next_step = tuple(x + y for x, y in zip(current, direction))\n",
    "            if (next_step, direction) in cache:\n",
    "                break\n",
    "            if data[next_step] in '.E':\n",
    "                next_score = cur_score + (1 if direction == facing else 1001)\n",
    "                heapq.heappush(pq, (next_score, direction, next_step))\n",
    "\n",
    "    return cache\n",
    "\n",
    "def pt1(filename):\n",
    "    with open(filename, 'r') as f:\n",
    "        data = np.array([list(s) for s in f.read().splitlines()])\n",
    "\n",
    "    start = list(zip(*np.where(data == 'S')))[0]\n",
    "    end = list(zip(*np.where(data == 'E')))[0]\n",
    "\n",
    "    cache = traverse(start, end, data)\n",
    "\n",
    "    return min(cache.get((end, d), 9e10) for d in DIRECTIONS)\n",
    "\n",
    "pt1('test.txt'), pt1('input.txt')"
   ]
  },
  {
   "cell_type": "markdown",
   "metadata": {},
   "source": [
    "Part 2"
   ]
  },
  {
   "cell_type": "code",
   "execution_count": 2,
   "metadata": {},
   "outputs": [
    {
     "data": {
      "text/plain": [
       "(45, 670)"
      ]
     },
     "execution_count": 2,
     "metadata": {},
     "output_type": "execute_result"
    }
   ],
   "source": [
    "def reverse_traverse(end, cache):\n",
    "    best_paths = set()\n",
    "\n",
    "    end_score = max(cache.values())\n",
    "    todo = [k for k, v in cache.items() if v == end_score]\n",
    "\n",
    "    while todo:\n",
    "        current, direction = todo.pop(0)\n",
    "        best_paths.add((current, direction))\n",
    "        if current == end:\n",
    "            break\n",
    "\n",
    "        next_step = tuple(x - y for x, y in zip(current, direction))\n",
    "        for turn_direction in DIRECTIONS:\n",
    "            cache_key = (next_step, turn_direction)\n",
    "            if cache_key in cache:\n",
    "                if cache[cache_key] < cache[(current, direction)]:\n",
    "                    todo.append(cache_key)\n",
    "\n",
    "    return best_paths\n",
    "\n",
    "def pt2(filename):\n",
    "    with open(filename, 'r') as f:\n",
    "        data = np.array([list(s) for s in f.read().splitlines()])\n",
    "\n",
    "    start = list(zip(*np.where(data == 'S')))[0]\n",
    "    end = list(zip(*np.where(data == 'E')))[0]\n",
    "\n",
    "    cache = traverse(start, end, data)\n",
    "    best_paths = reverse_traverse(start, cache)\n",
    "\n",
    "    return len(set(ind for ind, d in best_paths))\n",
    "\n",
    "pt2('test.txt'), pt2('input.txt')"
   ]
  }
 ],
 "metadata": {
  "kernelspec": {
   "display_name": "3.11.9",
   "language": "python",
   "name": "python3"
  },
  "language_info": {
   "codemirror_mode": {
    "name": "ipython",
    "version": 3
   },
   "file_extension": ".py",
   "mimetype": "text/x-python",
   "name": "python",
   "nbconvert_exporter": "python",
   "pygments_lexer": "ipython3",
   "version": "3.11.9"
  }
 },
 "nbformat": 4,
 "nbformat_minor": 2
}

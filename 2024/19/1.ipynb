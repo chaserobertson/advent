{
 "cells": [
  {
   "cell_type": "markdown",
   "metadata": {},
   "source": [
    "Part 1"
   ]
  },
  {
   "cell_type": "code",
   "execution_count": 1,
   "metadata": {},
   "outputs": [
    {
     "data": {
      "text/plain": [
       "(6, 330)"
      ]
     },
     "execution_count": 1,
     "metadata": {},
     "output_type": "execute_result"
    }
   ],
   "source": [
    "def pt1(filename, count_variants=False):\n",
    "    with open(filename, 'r') as f:\n",
    "        data = f.read().splitlines()\n",
    "\n",
    "    patterns = data[0].split(', ')\n",
    "    designs = data[2:]\n",
    "\n",
    "    design_possible = [0] * len(designs)\n",
    "    for d, design in enumerate(designs):\n",
    "        prefix_possible = [1] + [0] * len(design)\n",
    "        #print(design)\n",
    "        for i in range(1, len(design) + 1):\n",
    "            for p in patterns:\n",
    "                if prefix_possible[i-len(p)] and design[i-len(p):i] == p:\n",
    "                    #print(design[i-len(p):i], '==', p)\n",
    "                    if count_variants:\n",
    "                        prefix_possible[i] += prefix_possible[i-len(p)]\n",
    "                    else:\n",
    "                        prefix_possible[i] |= 1\n",
    "\n",
    "        design_possible[d] = prefix_possible[-1]\n",
    "        #print(design, prefix_possible)\n",
    "\n",
    "    return sum(design_possible)\n",
    "\n",
    "pt1('test.txt'), pt1('input.txt')"
   ]
  },
  {
   "cell_type": "markdown",
   "metadata": {},
   "source": [
    "Part 2"
   ]
  },
  {
   "cell_type": "code",
   "execution_count": 2,
   "metadata": {},
   "outputs": [
    {
     "data": {
      "text/plain": [
       "(16, 950763269786650)"
      ]
     },
     "execution_count": 2,
     "metadata": {},
     "output_type": "execute_result"
    }
   ],
   "source": [
    "pt1('test.txt', count_variants=True), pt1('input.txt', count_variants=True)"
   ]
  }
 ],
 "metadata": {
  "kernelspec": {
   "display_name": "3.11.9",
   "language": "python",
   "name": "python3"
  },
  "language_info": {
   "codemirror_mode": {
    "name": "ipython",
    "version": 3
   },
   "file_extension": ".py",
   "mimetype": "text/x-python",
   "name": "python",
   "nbconvert_exporter": "python",
   "pygments_lexer": "ipython3",
   "version": "3.11.9"
  }
 },
 "nbformat": 4,
 "nbformat_minor": 2
}

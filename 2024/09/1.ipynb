{
 "cells": [
  {
   "cell_type": "markdown",
   "metadata": {},
   "source": [
    "Part 1"
   ]
  },
  {
   "cell_type": "code",
   "execution_count": 1,
   "metadata": {},
   "outputs": [
    {
     "data": {
      "text/plain": [
       "(1928, 6384282079460)"
      ]
     },
     "execution_count": 1,
     "metadata": {},
     "output_type": "execute_result"
    }
   ],
   "source": [
    "def get_blocks(text):\n",
    "    blocks = []\n",
    "    i, block = 0, True\n",
    "    for char in text:\n",
    "        digit = int(char)\n",
    "        if block:\n",
    "            blocks += [i for _ in range(digit)]\n",
    "            i += 1\n",
    "        else:\n",
    "            blocks += ['.' for _ in range(digit)]\n",
    "        block = not block\n",
    "        \n",
    "    return blocks\n",
    "\n",
    "def pt1(filename):\n",
    "    with open(filename, 'r') as f:\n",
    "        data = f.read().strip()\n",
    "    \n",
    "    blocks = get_blocks(data)\n",
    "\n",
    "    slots = blocks.index('.')\n",
    "    mover = len(blocks) - 1\n",
    "    while slots < mover:\n",
    "        blocks[slots], blocks[mover] = blocks[mover], blocks[slots]\n",
    "        while blocks[slots] != '.':\n",
    "            slots += 1\n",
    "        while blocks[mover] == '.':\n",
    "            mover -= 1\n",
    "\n",
    "    return sum(i * int(c) for i, c in enumerate(blocks) if c != '.')\n",
    "\n",
    "pt1('test.txt'), pt1('input.txt')"
   ]
  },
  {
   "cell_type": "markdown",
   "metadata": {},
   "source": [
    "Part 2"
   ]
  },
  {
   "cell_type": "code",
   "execution_count": 2,
   "metadata": {},
   "outputs": [
    {
     "data": {
      "text/plain": [
       "(2858, 6408966547049)"
      ]
     },
     "execution_count": 2,
     "metadata": {},
     "output_type": "execute_result"
    }
   ],
   "source": [
    "def get_blocks_and_slots(text):\n",
    "    blocks, slots = [], []\n",
    "    i, id, block = 0, 0, True\n",
    "    for char in text:\n",
    "        size = int(char)\n",
    "        if block:\n",
    "            blocks.append({'id': id, 'size': size, 'begin': i})\n",
    "            id += 1\n",
    "        else:\n",
    "            slots.append({'begin': i, 'size': size})\n",
    "        i += size\n",
    "        block = not block\n",
    "    return blocks, slots\n",
    "\n",
    "def pt2(filename):\n",
    "    with open(filename, 'r') as f:\n",
    "        data = f.read().strip()\n",
    "    \n",
    "    blocks, slots = get_blocks_and_slots(data)\n",
    "    \n",
    "    for block in blocks[::-1]:\n",
    "        for i, slot in enumerate(slots):\n",
    "            if block['begin'] < slot['begin']:\n",
    "                break\n",
    "\n",
    "            if block['size'] <= slot['size']:\n",
    "                block['begin'] = slot['begin']\n",
    "                slot['begin'] += block['size']\n",
    "                slot['size'] -= block['size']\n",
    "\n",
    "                if slot['size'] == 0:\n",
    "                    slots.pop(i)\n",
    "\n",
    "                break\n",
    "        \n",
    "    return sum(b['id'] * sum(range(b['begin'], b['begin'] + b['size'])) for b in blocks)\n",
    "\n",
    "pt2('test.txt'), pt2('input.txt')"
   ]
  }
 ],
 "metadata": {
  "kernelspec": {
   "display_name": "3.11.9",
   "language": "python",
   "name": "python3"
  },
  "language_info": {
   "codemirror_mode": {
    "name": "ipython",
    "version": 3
   },
   "file_extension": ".py",
   "mimetype": "text/x-python",
   "name": "python",
   "nbconvert_exporter": "python",
   "pygments_lexer": "ipython3",
   "version": "3.11.9"
  }
 },
 "nbformat": 4,
 "nbformat_minor": 2
}

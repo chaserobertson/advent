{
 "cells": [
  {
   "cell_type": "markdown",
   "metadata": {},
   "source": [
    "Part 1"
   ]
  },
  {
   "cell_type": "code",
   "execution_count": 1,
   "metadata": {},
   "outputs": [],
   "source": [
    "from re import findall\n",
    "from math import prod\n",
    "\n",
    "def get_mul_sums(text):\n",
    "    substrs = findall(r'mul\\([0-9]{1,3},[0-9]{1,3}\\)', text)\n",
    "    return sum(\n",
    "        prod(int(x) for x in findall(r'[0-9]{1,3}', opstr))\n",
    "        for opstr in substrs\n",
    "    )"
   ]
  },
  {
   "cell_type": "code",
   "execution_count": 2,
   "metadata": {},
   "outputs": [
    {
     "data": {
      "text/plain": [
       "(161, 156388521)"
      ]
     },
     "execution_count": 2,
     "metadata": {},
     "output_type": "execute_result"
    }
   ],
   "source": [
    "def pt1(filename):\n",
    "    with open(filename, 'r') as f:\n",
    "        data = f.read().splitlines()\n",
    "\n",
    "    return sum(\n",
    "        get_mul_sums(line)\n",
    "        for line in data\n",
    "    )\n",
    "\n",
    "pt1('test.txt'), pt1('input.txt')"
   ]
  },
  {
   "cell_type": "code",
   "execution_count": 3,
   "metadata": {},
   "outputs": [
    {
     "data": {
      "text/plain": [
       "(48, 75920122)"
      ]
     },
     "execution_count": 3,
     "metadata": {},
     "output_type": "execute_result"
    }
   ],
   "source": [
    "def pt2(filename):\n",
    "    with open(filename, 'r') as f:\n",
    "        data = f.read()\n",
    "\n",
    "    sections = data.split(\"don't()\")\n",
    "\n",
    "    return get_mul_sums(sections[0]) + sum(\n",
    "        prod([\n",
    "            (enable_ind := sec.find(\"do()\")) != -1,\n",
    "            get_mul_sums(sec[enable_ind:])\n",
    "        ])\n",
    "        for sec in sections[1:]\n",
    "    )\n",
    "\n",
    "pt2('test2.txt'), pt2('input.txt')"
   ]
  }
 ],
 "metadata": {
  "kernelspec": {
   "display_name": "3.11.9",
   "language": "python",
   "name": "python3"
  },
  "language_info": {
   "codemirror_mode": {
    "name": "ipython",
    "version": 3
   },
   "file_extension": ".py",
   "mimetype": "text/x-python",
   "name": "python",
   "nbconvert_exporter": "python",
   "pygments_lexer": "ipython3",
   "version": "3.11.9"
  }
 },
 "nbformat": 4,
 "nbformat_minor": 2
}
